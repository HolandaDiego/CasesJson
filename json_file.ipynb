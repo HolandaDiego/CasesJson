{
 "cells": [
  {
   "cell_type": "code",
   "execution_count": 0,
   "metadata": {
    "application/vnd.databricks.v1+cell": {
     "cellMetadata": {
      "byteLimit": 2048000,
      "rowLimit": 10000
     },
     "inputWidgets": {},
     "nuid": "379fae97-946b-4097-89df-b2385ad488d6",
     "showTitle": false,
     "title": ""
    }
   },
   "outputs": [
    {
     "output_type": "stream",
     "name": "stdout",
     "output_type": "stream",
     "text": [
      "root\n |-- _corrupt_record: string (nullable = true)\n\n"
     ]
    }
   ],
   "source": [
    "#cria data frame\n",
    "\n",
    "df = spark.read.json(\"/FileStore/tables/db.json\")\n",
    "df.printSchema()"
   ]
  },
  {
   "cell_type": "code",
   "execution_count": 0,
   "metadata": {
    "application/vnd.databricks.v1+cell": {
     "cellMetadata": {
      "byteLimit": 2048000,
      "rowLimit": 10000
     },
     "inputWidgets": {},
     "nuid": "7ef9998b-4c36-4627-9597-80527e89f638",
     "showTitle": false,
     "title": ""
    }
   },
   "outputs": [
    {
     "output_type": "stream",
     "name": "stdout",
     "output_type": "stream",
     "text": [
      "root\n |-- livros: array (nullable = true)\n |    |-- element: struct (containsNull = true)\n |    |    |-- ano: string (nullable = true)\n |    |    |-- autores: struct (nullable = true)\n |    |    |    |-- autor1: string (nullable = true)\n |    |    |    |-- autor2: string (nullable = true)\n |    |    |-- categoria: string (nullable = true)\n |    |    |-- descricao: string (nullable = true)\n |    |    |-- estoque: string (nullable = true)\n |    |    |-- imgCapa: string (nullable = true)\n |    |    |-- isbn: string (nullable = true)\n |    |    |-- paginas: string (nullable = true)\n |    |    |-- pgAutores: struct (nullable = true)\n |    |    |    |-- pgAutor1: string (nullable = true)\n |    |    |    |-- pgAutor2: string (nullable = true)\n |    |    |-- pgLivro: string (nullable = true)\n |    |    |-- preco: long (nullable = true)\n |    |    |-- titulo: string (nullable = true)\n\n"
     ]
    }
   ],
   "source": [
    "df = spark.read.option('multiline', 'true').json(\"/FileStore/tables/db.json\")\n",
    "df.printSchema()"
   ]
  },
  {
   "cell_type": "code",
   "execution_count": 0,
   "metadata": {
    "application/vnd.databricks.v1+cell": {
     "cellMetadata": {
      "byteLimit": 2048000,
      "rowLimit": 10000
     },
     "inputWidgets": {},
     "nuid": "075702bf-bacf-484c-ab1f-49b921f5eb72",
     "showTitle": false,
     "title": ""
    }
   },
   "outputs": [
    {
     "output_type": "display_data",
     "data": {
      "text/html": [
       "<style scoped>\n",
       "  .table-result-container {\n",
       "    max-height: 300px;\n",
       "    overflow: auto;\n",
       "  }\n",
       "  table, th, td {\n",
       "    border: 1px solid black;\n",
       "    border-collapse: collapse;\n",
       "  }\n",
       "  th, td {\n",
       "    padding: 5px;\n",
       "  }\n",
       "  th {\n",
       "    text-align: left;\n",
       "  }\n",
       "</style><div class='table-result-container'><table class='table-result'><thead style='background-color: white'><tr><th>livros</th></tr></thead><tbody><tr><td>List(List(2018, List(José Augusto N. G. Manzano, null), Programação, <p>Lorem ipsum dolor sit amet, consectetuer adipiscing elit. Morbi eleifend, purus quis laoreet faucibus, ante augue malesuada mi, id rhoncus augue lorem eget elit. Ut sollicitudin sodales purus.</p>, Disponível também em formato ebook, https://s3.novatec.com.br/capas/9788575226834.jpg, 978-85-7522-683-4, 312, List(autores/jose-manzano.php, null), null, 69, Primeiros passos com a linguagem Rust), List(2018, List(Igor Zhirkov, null), Hardware &amp; Robótica, <p>Phasellus libero felis, blandit nec, commodo ut, imperdiet ut, nibh. Suspendisse potenti. Donec ullamcorper cursus dolor. Duis vitae ipsum. Maecenas dapibus hendrerit diam. Morbi varius, massa id pretium accumsan, nunc lorem congue libero, ut euismod metus libero id nulla.</p>, Disponível também em formato ebook, https://s3.novatec.com.br/capas/9788575226674.jpg, 978-85-7522-667-4, 576, List(autores/igor-zhirkov.php, null), null, 120, Programação em Baixo Nível), List(2018, List(José Augusto N. G. Manzano, null), Programação, <p>Duis posuere odio sed velit vulputate venenatis. Suspendisse et dui ac metus auctor fringilla. Curabitur interdum augue a pede.</p>>, Disponível também em formato ebook, https://s3.novatec.com.br/capas/9788575226681.jpg, 978-85-7522-668-1, 176, List(autores/jose-manzano.php, null), livros/introducao-a-linguagem-lua, 52, Introdução à linguagem Lua), List(2018, List(Edécio Fernando Iepsen, null), Programação, <p>Duis cursus, dui non dictum tincidunt, wisi ipsum mollis wisi, nec ornare velit ipsum eget enim. In sed felis. Phasellus condimentum sodales nulla. Etiam orci leo, rutrum malesuada, congue vel, fringilla vitae, lorem. Pellentesque ligula.</p>, Disponível também em formato ebook, https://s3.novatec.com.br/capas/9788575226568.jpg, 978-85-7522-656-8, 320, List(autores/edecio-iepsen.php, null), null, 69, Lógica de Programação e Algoritmos com JavaScript), List(2017, List(Juliano Niederauer, null), Programação, <p>Cras gravida. Mauris consequat aliquam leo. Aenean non tortor id metus aliquet consectetuer. Quisque sodales lectus ac orci. Donec eleifend fringilla mi. Vivamus vel massa. Aenean interdum pellentesque sem. Nulla pellentesque felis et tortor. Duis cursus, dui non dictum tincidunt, wisi ipsum mollis wisi, nec ornare velit ipsum eget enim. In sed felis. Phasellus condimentum sodales nulla. Etiam orci leo, rutrum malesuada, congue vel, fringilla vitae, lorem. Pellentesque ligula.</p>, Disponível também em formato ebook, https://s3.novatec.com.br/capas/9788575225905.jpg, 978-85-7522-590-5, 544, List(autores/niederauer.php, null), livros/php-para-quem-conhece-php-5ed/, 99, PHP para quem conhece PHP - 5ª Edição), List(2017, List(Alan A. Donovan, Brian W. Kernighan), Programação, <p>Lorem ipsum dolor sit amet, consectetuer adipiscing elit. Morbi eleifend, purus quis laoreet faucibus, ante augue malesuada mi, id rhoncus augue lorem eget elit. Ut sollicitudin sodales purus. Phasellus libero felis, blandit nec, commodo ut, imperdiet ut, nibh. Suspendisse potenti. Donec ullamcorper cursus dolor. Duis vitae ipsum. Maecenas dapibus hendrerit diam. Morbi varius, massa id pretium accumsan, nunc lorem congue libero, ut euismod metus libero id nulla. Duis posuere odio sed velit vulputate venenatis. Suspendisse et dui ac metus auctor fringilla. Curabitur interdum augue a pede.</p><p>Curabitur hendrerit erat ut augue. Cras gravida. Mauris consequat aliquam leo. Aenean non tortor id metus aliquet consectetuer. Quisque sodales lectus ac orci. Donec eleifend fringilla mi. Vivamus vel massa. Aenean interdum pellentesque sem. Nulla pellentesque felis et tortor. Duis cursus, dui non dictum tincidunt, wisi ipsum mollis wisi, nec ornare velit ipsum eget enim. In sed felis. Phasellus condimentum sodales nulla. Etiam orci leo, rutrum malesuada, congue vel, fringilla vitae, lorem. Pellentesque ligula.</p>, , https://s3.novatec.com.br/capas/9788575225462.jpg, 978-85-7522-546-2, 480, List(autores/alan-donovan.php, autores/brian-kernighan.php), livros/linguagem-de-programacao-go/, 98, A Linguagem de Programação Go))</td></tr></tbody></table></div>"
      ]
     },
     "metadata": {
      "application/vnd.databricks.v1+output": {
       "addedWidgets": {},
       "aggData": [],
       "aggError": "",
       "aggOverflow": false,
       "aggSchema": [],
       "aggSeriesLimitReached": false,
       "aggType": "",
       "arguments": {},
       "columnCustomDisplayInfos": {},
       "data": [
        [
         [
          [
           "2018",
           [
            "José Augusto N. G. Manzano",
            null
           ],
           "Programação",
           "<p>Lorem ipsum dolor sit amet, consectetuer adipiscing elit. Morbi eleifend, purus quis laoreet faucibus, ante augue malesuada mi, id rhoncus augue lorem eget elit. Ut sollicitudin sodales purus.</p>",
           "Disponível também em formato ebook",
           "https://s3.novatec.com.br/capas/9788575226834.jpg",
           "978-85-7522-683-4",
           "312",
           [
            "autores/jose-manzano.php",
            null
           ],
           null,
           69,
           "Primeiros passos com a linguagem Rust"
          ],
          [
           "2018",
           [
            "Igor Zhirkov",
            null
           ],
           "Hardware &amp; Robótica",
           "<p>Phasellus libero felis, blandit nec, commodo ut, imperdiet ut, nibh. Suspendisse potenti. Donec ullamcorper cursus dolor. Duis vitae ipsum. Maecenas dapibus hendrerit diam. Morbi varius, massa id pretium accumsan, nunc lorem congue libero, ut euismod metus libero id nulla.</p>",
           "Disponível também em formato ebook",
           "https://s3.novatec.com.br/capas/9788575226674.jpg",
           "978-85-7522-667-4",
           "576",
           [
            "autores/igor-zhirkov.php",
            null
           ],
           null,
           120,
           "Programação em Baixo Nível"
          ],
          [
           "2018",
           [
            "José Augusto N. G. Manzano",
            null
           ],
           "Programação",
           "<p>Duis posuere odio sed velit vulputate venenatis. Suspendisse et dui ac metus auctor fringilla. Curabitur interdum augue a pede.</p>>",
           "Disponível também em formato ebook",
           "https://s3.novatec.com.br/capas/9788575226681.jpg",
           "978-85-7522-668-1",
           "176",
           [
            "autores/jose-manzano.php",
            null
           ],
           "livros/introducao-a-linguagem-lua",
           52,
           "Introdução à linguagem Lua"
          ],
          [
           "2018",
           [
            "Edécio Fernando Iepsen",
            null
           ],
           "Programação",
           "<p>Duis cursus, dui non dictum tincidunt, wisi ipsum mollis wisi, nec ornare velit ipsum eget enim. In sed felis. Phasellus condimentum sodales nulla. Etiam orci leo, rutrum malesuada, congue vel, fringilla vitae, lorem. Pellentesque ligula.</p>",
           "Disponível também em formato ebook",
           "https://s3.novatec.com.br/capas/9788575226568.jpg",
           "978-85-7522-656-8",
           "320",
           [
            "autores/edecio-iepsen.php",
            null
           ],
           null,
           69,
           "Lógica de Programação e Algoritmos com JavaScript"
          ],
          [
           "2017",
           [
            "Juliano Niederauer",
            null
           ],
           "Programação",
           "<p>Cras gravida. Mauris consequat aliquam leo. Aenean non tortor id metus aliquet consectetuer. Quisque sodales lectus ac orci. Donec eleifend fringilla mi. Vivamus vel massa. Aenean interdum pellentesque sem. Nulla pellentesque felis et tortor. Duis cursus, dui non dictum tincidunt, wisi ipsum mollis wisi, nec ornare velit ipsum eget enim. In sed felis. Phasellus condimentum sodales nulla. Etiam orci leo, rutrum malesuada, congue vel, fringilla vitae, lorem. Pellentesque ligula.</p>",
           "Disponível também em formato ebook",
           "https://s3.novatec.com.br/capas/9788575225905.jpg",
           "978-85-7522-590-5",
           "544",
           [
            "autores/niederauer.php",
            null
           ],
           "livros/php-para-quem-conhece-php-5ed/",
           99,
           "PHP para quem conhece PHP - 5ª Edição"
          ],
          [
           "2017",
           [
            "Alan A. Donovan",
            "Brian W. Kernighan"
           ],
           "Programação",
           "<p>Lorem ipsum dolor sit amet, consectetuer adipiscing elit. Morbi eleifend, purus quis laoreet faucibus, ante augue malesuada mi, id rhoncus augue lorem eget elit. Ut sollicitudin sodales purus. Phasellus libero felis, blandit nec, commodo ut, imperdiet ut, nibh. Suspendisse potenti. Donec ullamcorper cursus dolor. Duis vitae ipsum. Maecenas dapibus hendrerit diam. Morbi varius, massa id pretium accumsan, nunc lorem congue libero, ut euismod metus libero id nulla. Duis posuere odio sed velit vulputate venenatis. Suspendisse et dui ac metus auctor fringilla. Curabitur interdum augue a pede.</p><p>Curabitur hendrerit erat ut augue. Cras gravida. Mauris consequat aliquam leo. Aenean non tortor id metus aliquet consectetuer. Quisque sodales lectus ac orci. Donec eleifend fringilla mi. Vivamus vel massa. Aenean interdum pellentesque sem. Nulla pellentesque felis et tortor. Duis cursus, dui non dictum tincidunt, wisi ipsum mollis wisi, nec ornare velit ipsum eget enim. In sed felis. Phasellus condimentum sodales nulla. Etiam orci leo, rutrum malesuada, congue vel, fringilla vitae, lorem. Pellentesque ligula.</p>",
           "",
           "https://s3.novatec.com.br/capas/9788575225462.jpg",
           "978-85-7522-546-2",
           "480",
           [
            "autores/alan-donovan.php",
            "autores/brian-kernighan.php"
           ],
           "livros/linguagem-de-programacao-go/",
           98,
           "A Linguagem de Programação Go"
          ]
         ]
        ]
       ],
       "datasetInfos": [],
       "dbfsResultPath": null,
       "isJsonSchema": true,
       "metadata": {},
       "overflow": false,
       "plotOptions": {
        "customPlotOptions": {},
        "displayType": "table",
        "pivotAggregation": null,
        "pivotColumns": null,
        "xColumns": null,
        "yColumns": null
       },
       "removedWidgets": [],
       "schema": [
        {
         "metadata": "{}",
         "name": "livros",
         "type": "{\"type\":\"array\",\"elementType\":{\"type\":\"struct\",\"fields\":[{\"name\":\"ano\",\"type\":\"string\",\"nullable\":true,\"metadata\":{}},{\"name\":\"autores\",\"type\":{\"type\":\"struct\",\"fields\":[{\"name\":\"autor1\",\"type\":\"string\",\"nullable\":true,\"metadata\":{}},{\"name\":\"autor2\",\"type\":\"string\",\"nullable\":true,\"metadata\":{}}]},\"nullable\":true,\"metadata\":{}},{\"name\":\"categoria\",\"type\":\"string\",\"nullable\":true,\"metadata\":{}},{\"name\":\"descricao\",\"type\":\"string\",\"nullable\":true,\"metadata\":{}},{\"name\":\"estoque\",\"type\":\"string\",\"nullable\":true,\"metadata\":{}},{\"name\":\"imgCapa\",\"type\":\"string\",\"nullable\":true,\"metadata\":{}},{\"name\":\"isbn\",\"type\":\"string\",\"nullable\":true,\"metadata\":{}},{\"name\":\"paginas\",\"type\":\"string\",\"nullable\":true,\"metadata\":{}},{\"name\":\"pgAutores\",\"type\":{\"type\":\"struct\",\"fields\":[{\"name\":\"pgAutor1\",\"type\":\"string\",\"nullable\":true,\"metadata\":{}},{\"name\":\"pgAutor2\",\"type\":\"string\",\"nullable\":true,\"metadata\":{}}]},\"nullable\":true,\"metadata\":{}},{\"name\":\"pgLivro\",\"type\":\"string\",\"nullable\":true,\"metadata\":{}},{\"name\":\"preco\",\"type\":\"long\",\"nullable\":true,\"metadata\":{}},{\"name\":\"titulo\",\"type\":\"string\",\"nullable\":true,\"metadata\":{}}]},\"containsNull\":true}"
        }
       ],
       "type": "table"
      }
     },
     "output_type": "display_data"
    }
   ],
   "source": [
    "display(df)"
   ]
  },
  {
   "cell_type": "code",
   "execution_count": 0,
   "metadata": {
    "application/vnd.databricks.v1+cell": {
     "cellMetadata": {
      "byteLimit": 2048000,
      "rowLimit": 10000
     },
     "inputWidgets": {},
     "nuid": "2773c0c5-4e55-4c16-8904-084a908d5c69",
     "showTitle": false,
     "title": ""
    }
   },
   "outputs": [],
   "source": [
    "from pyspark.sql.functions import explode, col"
   ]
  },
  {
   "cell_type": "code",
   "execution_count": 0,
   "metadata": {
    "application/vnd.databricks.v1+cell": {
     "cellMetadata": {
      "byteLimit": 2048000,
      "rowLimit": 10000
     },
     "inputWidgets": {},
     "nuid": "3c6d298c-6bfe-4fed-85af-97b9ebfdc695",
     "showTitle": false,
     "title": ""
    }
   },
   "outputs": [],
   "source": [
    "df_flat = df.withColumn(\"livros_explode\", explode(\"livros\"))"
   ]
  },
  {
   "cell_type": "code",
   "execution_count": 0,
   "metadata": {
    "application/vnd.databricks.v1+cell": {
     "cellMetadata": {
      "byteLimit": 2048000,
      "rowLimit": 10000
     },
     "inputWidgets": {},
     "nuid": "045eca62-7c62-42d5-b579-8fa443fb2359",
     "showTitle": false,
     "title": ""
    }
   },
   "outputs": [
    {
     "output_type": "display_data",
     "data": {
      "text/html": [
       "<style scoped>\n",
       "  .table-result-container {\n",
       "    max-height: 300px;\n",
       "    overflow: auto;\n",
       "  }\n",
       "  table, th, td {\n",
       "    border: 1px solid black;\n",
       "    border-collapse: collapse;\n",
       "  }\n",
       "  th, td {\n",
       "    padding: 5px;\n",
       "  }\n",
       "  th {\n",
       "    text-align: left;\n",
       "  }\n",
       "</style><div class='table-result-container'><table class='table-result'><thead style='background-color: white'><tr><th>livros</th><th>livros_explode</th></tr></thead><tbody><tr><td>List(List(2018, List(José Augusto N. G. Manzano, null), Programação, <p>Lorem ipsum dolor sit amet, consectetuer adipiscing elit. Morbi eleifend, purus quis laoreet faucibus, ante augue malesuada mi, id rhoncus augue lorem eget elit. Ut sollicitudin sodales purus.</p>, Disponível também em formato ebook, https://s3.novatec.com.br/capas/9788575226834.jpg, 978-85-7522-683-4, 312, List(autores/jose-manzano.php, null), null, 69, Primeiros passos com a linguagem Rust), List(2018, List(Igor Zhirkov, null), Hardware &amp; Robótica, <p>Phasellus libero felis, blandit nec, commodo ut, imperdiet ut, nibh. Suspendisse potenti. Donec ullamcorper cursus dolor. Duis vitae ipsum. Maecenas dapibus hendrerit diam. Morbi varius, massa id pretium accumsan, nunc lorem congue libero, ut euismod metus libero id nulla.</p>, Disponível também em formato ebook, https://s3.novatec.com.br/capas/9788575226674.jpg, 978-85-7522-667-4, 576, List(autores/igor-zhirkov.php, null), null, 120, Programação em Baixo Nível), List(2018, List(José Augusto N. G. Manzano, null), Programação, <p>Duis posuere odio sed velit vulputate venenatis. Suspendisse et dui ac metus auctor fringilla. Curabitur interdum augue a pede.</p>>, Disponível também em formato ebook, https://s3.novatec.com.br/capas/9788575226681.jpg, 978-85-7522-668-1, 176, List(autores/jose-manzano.php, null), livros/introducao-a-linguagem-lua, 52, Introdução à linguagem Lua), List(2018, List(Edécio Fernando Iepsen, null), Programação, <p>Duis cursus, dui non dictum tincidunt, wisi ipsum mollis wisi, nec ornare velit ipsum eget enim. In sed felis. Phasellus condimentum sodales nulla. Etiam orci leo, rutrum malesuada, congue vel, fringilla vitae, lorem. Pellentesque ligula.</p>, Disponível também em formato ebook, https://s3.novatec.com.br/capas/9788575226568.jpg, 978-85-7522-656-8, 320, List(autores/edecio-iepsen.php, null), null, 69, Lógica de Programação e Algoritmos com JavaScript), List(2017, List(Juliano Niederauer, null), Programação, <p>Cras gravida. Mauris consequat aliquam leo. Aenean non tortor id metus aliquet consectetuer. Quisque sodales lectus ac orci. Donec eleifend fringilla mi. Vivamus vel massa. Aenean interdum pellentesque sem. Nulla pellentesque felis et tortor. Duis cursus, dui non dictum tincidunt, wisi ipsum mollis wisi, nec ornare velit ipsum eget enim. In sed felis. Phasellus condimentum sodales nulla. Etiam orci leo, rutrum malesuada, congue vel, fringilla vitae, lorem. Pellentesque ligula.</p>, Disponível também em formato ebook, https://s3.novatec.com.br/capas/9788575225905.jpg, 978-85-7522-590-5, 544, List(autores/niederauer.php, null), livros/php-para-quem-conhece-php-5ed/, 99, PHP para quem conhece PHP - 5ª Edição), List(2017, List(Alan A. Donovan, Brian W. Kernighan), Programação, <p>Lorem ipsum dolor sit amet, consectetuer adipiscing elit. Morbi eleifend, purus quis laoreet faucibus, ante augue malesuada mi, id rhoncus augue lorem eget elit. Ut sollicitudin sodales purus. Phasellus libero felis, blandit nec, commodo ut, imperdiet ut, nibh. Suspendisse potenti. Donec ullamcorper cursus dolor. Duis vitae ipsum. Maecenas dapibus hendrerit diam. Morbi varius, massa id pretium accumsan, nunc lorem congue libero, ut euismod metus libero id nulla. Duis posuere odio sed velit vulputate venenatis. Suspendisse et dui ac metus auctor fringilla. Curabitur interdum augue a pede.</p><p>Curabitur hendrerit erat ut augue. Cras gravida. Mauris consequat aliquam leo. Aenean non tortor id metus aliquet consectetuer. Quisque sodales lectus ac orci. Donec eleifend fringilla mi. Vivamus vel massa. Aenean interdum pellentesque sem. Nulla pellentesque felis et tortor. Duis cursus, dui non dictum tincidunt, wisi ipsum mollis wisi, nec ornare velit ipsum eget enim. In sed felis. Phasellus condimentum sodales nulla. Etiam orci leo, rutrum malesuada, congue vel, fringilla vitae, lorem. Pellentesque ligula.</p>, , https://s3.novatec.com.br/capas/9788575225462.jpg, 978-85-7522-546-2, 480, List(autores/alan-donovan.php, autores/brian-kernighan.php), livros/linguagem-de-programacao-go/, 98, A Linguagem de Programação Go))</td><td>List(2018, List(José Augusto N. G. Manzano, null), Programação, <p>Lorem ipsum dolor sit amet, consectetuer adipiscing elit. Morbi eleifend, purus quis laoreet faucibus, ante augue malesuada mi, id rhoncus augue lorem eget elit. Ut sollicitudin sodales purus.</p>, Disponível também em formato ebook, https://s3.novatec.com.br/capas/9788575226834.jpg, 978-85-7522-683-4, 312, List(autores/jose-manzano.php, null), null, 69, Primeiros passos com a linguagem Rust)</td></tr><tr><td>List(List(2018, List(José Augusto N. G. Manzano, null), Programação, <p>Lorem ipsum dolor sit amet, consectetuer adipiscing elit. Morbi eleifend, purus quis laoreet faucibus, ante augue malesuada mi, id rhoncus augue lorem eget elit. Ut sollicitudin sodales purus.</p>, Disponível também em formato ebook, https://s3.novatec.com.br/capas/9788575226834.jpg, 978-85-7522-683-4, 312, List(autores/jose-manzano.php, null), null, 69, Primeiros passos com a linguagem Rust), List(2018, List(Igor Zhirkov, null), Hardware &amp; Robótica, <p>Phasellus libero felis, blandit nec, commodo ut, imperdiet ut, nibh. Suspendisse potenti. Donec ullamcorper cursus dolor. Duis vitae ipsum. Maecenas dapibus hendrerit diam. Morbi varius, massa id pretium accumsan, nunc lorem congue libero, ut euismod metus libero id nulla.</p>, Disponível também em formato ebook, https://s3.novatec.com.br/capas/9788575226674.jpg, 978-85-7522-667-4, 576, List(autores/igor-zhirkov.php, null), null, 120, Programação em Baixo Nível), List(2018, List(José Augusto N. G. Manzano, null), Programação, <p>Duis posuere odio sed velit vulputate venenatis. Suspendisse et dui ac metus auctor fringilla. Curabitur interdum augue a pede.</p>>, Disponível também em formato ebook, https://s3.novatec.com.br/capas/9788575226681.jpg, 978-85-7522-668-1, 176, List(autores/jose-manzano.php, null), livros/introducao-a-linguagem-lua, 52, Introdução à linguagem Lua), List(2018, List(Edécio Fernando Iepsen, null), Programação, <p>Duis cursus, dui non dictum tincidunt, wisi ipsum mollis wisi, nec ornare velit ipsum eget enim. In sed felis. Phasellus condimentum sodales nulla. Etiam orci leo, rutrum malesuada, congue vel, fringilla vitae, lorem. Pellentesque ligula.</p>, Disponível também em formato ebook, https://s3.novatec.com.br/capas/9788575226568.jpg, 978-85-7522-656-8, 320, List(autores/edecio-iepsen.php, null), null, 69, Lógica de Programação e Algoritmos com JavaScript), List(2017, List(Juliano Niederauer, null), Programação, <p>Cras gravida. Mauris consequat aliquam leo. Aenean non tortor id metus aliquet consectetuer. Quisque sodales lectus ac orci. Donec eleifend fringilla mi. Vivamus vel massa. Aenean interdum pellentesque sem. Nulla pellentesque felis et tortor. Duis cursus, dui non dictum tincidunt, wisi ipsum mollis wisi, nec ornare velit ipsum eget enim. In sed felis. Phasellus condimentum sodales nulla. Etiam orci leo, rutrum malesuada, congue vel, fringilla vitae, lorem. Pellentesque ligula.</p>, Disponível também em formato ebook, https://s3.novatec.com.br/capas/9788575225905.jpg, 978-85-7522-590-5, 544, List(autores/niederauer.php, null), livros/php-para-quem-conhece-php-5ed/, 99, PHP para quem conhece PHP - 5ª Edição), List(2017, List(Alan A. Donovan, Brian W. Kernighan), Programação, <p>Lorem ipsum dolor sit amet, consectetuer adipiscing elit. Morbi eleifend, purus quis laoreet faucibus, ante augue malesuada mi, id rhoncus augue lorem eget elit. Ut sollicitudin sodales purus. Phasellus libero felis, blandit nec, commodo ut, imperdiet ut, nibh. Suspendisse potenti. Donec ullamcorper cursus dolor. Duis vitae ipsum. Maecenas dapibus hendrerit diam. Morbi varius, massa id pretium accumsan, nunc lorem congue libero, ut euismod metus libero id nulla. Duis posuere odio sed velit vulputate venenatis. Suspendisse et dui ac metus auctor fringilla. Curabitur interdum augue a pede.</p><p>Curabitur hendrerit erat ut augue. Cras gravida. Mauris consequat aliquam leo. Aenean non tortor id metus aliquet consectetuer. Quisque sodales lectus ac orci. Donec eleifend fringilla mi. Vivamus vel massa. Aenean interdum pellentesque sem. Nulla pellentesque felis et tortor. Duis cursus, dui non dictum tincidunt, wisi ipsum mollis wisi, nec ornare velit ipsum eget enim. In sed felis. Phasellus condimentum sodales nulla. Etiam orci leo, rutrum malesuada, congue vel, fringilla vitae, lorem. Pellentesque ligula.</p>, , https://s3.novatec.com.br/capas/9788575225462.jpg, 978-85-7522-546-2, 480, List(autores/alan-donovan.php, autores/brian-kernighan.php), livros/linguagem-de-programacao-go/, 98, A Linguagem de Programação Go))</td><td>List(2018, List(Igor Zhirkov, null), Hardware &amp; Robótica, <p>Phasellus libero felis, blandit nec, commodo ut, imperdiet ut, nibh. Suspendisse potenti. Donec ullamcorper cursus dolor. Duis vitae ipsum. Maecenas dapibus hendrerit diam. Morbi varius, massa id pretium accumsan, nunc lorem congue libero, ut euismod metus libero id nulla.</p>, Disponível também em formato ebook, https://s3.novatec.com.br/capas/9788575226674.jpg, 978-85-7522-667-4, 576, List(autores/igor-zhirkov.php, null), null, 120, Programação em Baixo Nível)</td></tr><tr><td>List(List(2018, List(José Augusto N. G. Manzano, null), Programação, <p>Lorem ipsum dolor sit amet, consectetuer adipiscing elit. Morbi eleifend, purus quis laoreet faucibus, ante augue malesuada mi, id rhoncus augue lorem eget elit. Ut sollicitudin sodales purus.</p>, Disponível também em formato ebook, https://s3.novatec.com.br/capas/9788575226834.jpg, 978-85-7522-683-4, 312, List(autores/jose-manzano.php, null), null, 69, Primeiros passos com a linguagem Rust), List(2018, List(Igor Zhirkov, null), Hardware &amp; Robótica, <p>Phasellus libero felis, blandit nec, commodo ut, imperdiet ut, nibh. Suspendisse potenti. Donec ullamcorper cursus dolor. Duis vitae ipsum. Maecenas dapibus hendrerit diam. Morbi varius, massa id pretium accumsan, nunc lorem congue libero, ut euismod metus libero id nulla.</p>, Disponível também em formato ebook, https://s3.novatec.com.br/capas/9788575226674.jpg, 978-85-7522-667-4, 576, List(autores/igor-zhirkov.php, null), null, 120, Programação em Baixo Nível), List(2018, List(José Augusto N. G. Manzano, null), Programação, <p>Duis posuere odio sed velit vulputate venenatis. Suspendisse et dui ac metus auctor fringilla. Curabitur interdum augue a pede.</p>>, Disponível também em formato ebook, https://s3.novatec.com.br/capas/9788575226681.jpg, 978-85-7522-668-1, 176, List(autores/jose-manzano.php, null), livros/introducao-a-linguagem-lua, 52, Introdução à linguagem Lua), List(2018, List(Edécio Fernando Iepsen, null), Programação, <p>Duis cursus, dui non dictum tincidunt, wisi ipsum mollis wisi, nec ornare velit ipsum eget enim. In sed felis. Phasellus condimentum sodales nulla. Etiam orci leo, rutrum malesuada, congue vel, fringilla vitae, lorem. Pellentesque ligula.</p>, Disponível também em formato ebook, https://s3.novatec.com.br/capas/9788575226568.jpg, 978-85-7522-656-8, 320, List(autores/edecio-iepsen.php, null), null, 69, Lógica de Programação e Algoritmos com JavaScript), List(2017, List(Juliano Niederauer, null), Programação, <p>Cras gravida. Mauris consequat aliquam leo. Aenean non tortor id metus aliquet consectetuer. Quisque sodales lectus ac orci. Donec eleifend fringilla mi. Vivamus vel massa. Aenean interdum pellentesque sem. Nulla pellentesque felis et tortor. Duis cursus, dui non dictum tincidunt, wisi ipsum mollis wisi, nec ornare velit ipsum eget enim. In sed felis. Phasellus condimentum sodales nulla. Etiam orci leo, rutrum malesuada, congue vel, fringilla vitae, lorem. Pellentesque ligula.</p>, Disponível também em formato ebook, https://s3.novatec.com.br/capas/9788575225905.jpg, 978-85-7522-590-5, 544, List(autores/niederauer.php, null), livros/php-para-quem-conhece-php-5ed/, 99, PHP para quem conhece PHP - 5ª Edição), List(2017, List(Alan A. Donovan, Brian W. Kernighan), Programação, <p>Lorem ipsum dolor sit amet, consectetuer adipiscing elit. Morbi eleifend, purus quis laoreet faucibus, ante augue malesuada mi, id rhoncus augue lorem eget elit. Ut sollicitudin sodales purus. Phasellus libero felis, blandit nec, commodo ut, imperdiet ut, nibh. Suspendisse potenti. Donec ullamcorper cursus dolor. Duis vitae ipsum. Maecenas dapibus hendrerit diam. Morbi varius, massa id pretium accumsan, nunc lorem congue libero, ut euismod metus libero id nulla. Duis posuere odio sed velit vulputate venenatis. Suspendisse et dui ac metus auctor fringilla. Curabitur interdum augue a pede.</p><p>Curabitur hendrerit erat ut augue. Cras gravida. Mauris consequat aliquam leo. Aenean non tortor id metus aliquet consectetuer. Quisque sodales lectus ac orci. Donec eleifend fringilla mi. Vivamus vel massa. Aenean interdum pellentesque sem. Nulla pellentesque felis et tortor. Duis cursus, dui non dictum tincidunt, wisi ipsum mollis wisi, nec ornare velit ipsum eget enim. In sed felis. Phasellus condimentum sodales nulla. Etiam orci leo, rutrum malesuada, congue vel, fringilla vitae, lorem. Pellentesque ligula.</p>, , https://s3.novatec.com.br/capas/9788575225462.jpg, 978-85-7522-546-2, 480, List(autores/alan-donovan.php, autores/brian-kernighan.php), livros/linguagem-de-programacao-go/, 98, A Linguagem de Programação Go))</td><td>List(2018, List(José Augusto N. G. Manzano, null), Programação, <p>Duis posuere odio sed velit vulputate venenatis. Suspendisse et dui ac metus auctor fringilla. Curabitur interdum augue a pede.</p>>, Disponível também em formato ebook, https://s3.novatec.com.br/capas/9788575226681.jpg, 978-85-7522-668-1, 176, List(autores/jose-manzano.php, null), livros/introducao-a-linguagem-lua, 52, Introdução à linguagem Lua)</td></tr><tr><td>List(List(2018, List(José Augusto N. G. Manzano, null), Programação, <p>Lorem ipsum dolor sit amet, consectetuer adipiscing elit. Morbi eleifend, purus quis laoreet faucibus, ante augue malesuada mi, id rhoncus augue lorem eget elit. Ut sollicitudin sodales purus.</p>, Disponível também em formato ebook, https://s3.novatec.com.br/capas/9788575226834.jpg, 978-85-7522-683-4, 312, List(autores/jose-manzano.php, null), null, 69, Primeiros passos com a linguagem Rust), List(2018, List(Igor Zhirkov, null), Hardware &amp; Robótica, <p>Phasellus libero felis, blandit nec, commodo ut, imperdiet ut, nibh. Suspendisse potenti. Donec ullamcorper cursus dolor. Duis vitae ipsum. Maecenas dapibus hendrerit diam. Morbi varius, massa id pretium accumsan, nunc lorem congue libero, ut euismod metus libero id nulla.</p>, Disponível também em formato ebook, https://s3.novatec.com.br/capas/9788575226674.jpg, 978-85-7522-667-4, 576, List(autores/igor-zhirkov.php, null), null, 120, Programação em Baixo Nível), List(2018, List(José Augusto N. G. Manzano, null), Programação, <p>Duis posuere odio sed velit vulputate venenatis. Suspendisse et dui ac metus auctor fringilla. Curabitur interdum augue a pede.</p>>, Disponível também em formato ebook, https://s3.novatec.com.br/capas/9788575226681.jpg, 978-85-7522-668-1, 176, List(autores/jose-manzano.php, null), livros/introducao-a-linguagem-lua, 52, Introdução à linguagem Lua), List(2018, List(Edécio Fernando Iepsen, null), Programação, <p>Duis cursus, dui non dictum tincidunt, wisi ipsum mollis wisi, nec ornare velit ipsum eget enim. In sed felis. Phasellus condimentum sodales nulla. Etiam orci leo, rutrum malesuada, congue vel, fringilla vitae, lorem. Pellentesque ligula.</p>, Disponível também em formato ebook, https://s3.novatec.com.br/capas/9788575226568.jpg, 978-85-7522-656-8, 320, List(autores/edecio-iepsen.php, null), null, 69, Lógica de Programação e Algoritmos com JavaScript), List(2017, List(Juliano Niederauer, null), Programação, <p>Cras gravida. Mauris consequat aliquam leo. Aenean non tortor id metus aliquet consectetuer. Quisque sodales lectus ac orci. Donec eleifend fringilla mi. Vivamus vel massa. Aenean interdum pellentesque sem. Nulla pellentesque felis et tortor. Duis cursus, dui non dictum tincidunt, wisi ipsum mollis wisi, nec ornare velit ipsum eget enim. In sed felis. Phasellus condimentum sodales nulla. Etiam orci leo, rutrum malesuada, congue vel, fringilla vitae, lorem. Pellentesque ligula.</p>, Disponível também em formato ebook, https://s3.novatec.com.br/capas/9788575225905.jpg, 978-85-7522-590-5, 544, List(autores/niederauer.php, null), livros/php-para-quem-conhece-php-5ed/, 99, PHP para quem conhece PHP - 5ª Edição), List(2017, List(Alan A. Donovan, Brian W. Kernighan), Programação, <p>Lorem ipsum dolor sit amet, consectetuer adipiscing elit. Morbi eleifend, purus quis laoreet faucibus, ante augue malesuada mi, id rhoncus augue lorem eget elit. Ut sollicitudin sodales purus. Phasellus libero felis, blandit nec, commodo ut, imperdiet ut, nibh. Suspendisse potenti. Donec ullamcorper cursus dolor. Duis vitae ipsum. Maecenas dapibus hendrerit diam. Morbi varius, massa id pretium accumsan, nunc lorem congue libero, ut euismod metus libero id nulla. Duis posuere odio sed velit vulputate venenatis. Suspendisse et dui ac metus auctor fringilla. Curabitur interdum augue a pede.</p><p>Curabitur hendrerit erat ut augue. Cras gravida. Mauris consequat aliquam leo. Aenean non tortor id metus aliquet consectetuer. Quisque sodales lectus ac orci. Donec eleifend fringilla mi. Vivamus vel massa. Aenean interdum pellentesque sem. Nulla pellentesque felis et tortor. Duis cursus, dui non dictum tincidunt, wisi ipsum mollis wisi, nec ornare velit ipsum eget enim. In sed felis. Phasellus condimentum sodales nulla. Etiam orci leo, rutrum malesuada, congue vel, fringilla vitae, lorem. Pellentesque ligula.</p>, , https://s3.novatec.com.br/capas/9788575225462.jpg, 978-85-7522-546-2, 480, List(autores/alan-donovan.php, autores/brian-kernighan.php), livros/linguagem-de-programacao-go/, 98, A Linguagem de Programação Go))</td><td>List(2018, List(Edécio Fernando Iepsen, null), Programação, <p>Duis cursus, dui non dictum tincidunt, wisi ipsum mollis wisi, nec ornare velit ipsum eget enim. In sed felis. Phasellus condimentum sodales nulla. Etiam orci leo, rutrum malesuada, congue vel, fringilla vitae, lorem. Pellentesque ligula.</p>, Disponível também em formato ebook, https://s3.novatec.com.br/capas/9788575226568.jpg, 978-85-7522-656-8, 320, List(autores/edecio-iepsen.php, null), null, 69, Lógica de Programação e Algoritmos com JavaScript)</td></tr><tr><td>List(List(2018, List(José Augusto N. G. Manzano, null), Programação, <p>Lorem ipsum dolor sit amet, consectetuer adipiscing elit. Morbi eleifend, purus quis laoreet faucibus, ante augue malesuada mi, id rhoncus augue lorem eget elit. Ut sollicitudin sodales purus.</p>, Disponível também em formato ebook, https://s3.novatec.com.br/capas/9788575226834.jpg, 978-85-7522-683-4, 312, List(autores/jose-manzano.php, null), null, 69, Primeiros passos com a linguagem Rust), List(2018, List(Igor Zhirkov, null), Hardware &amp; Robótica, <p>Phasellus libero felis, blandit nec, commodo ut, imperdiet ut, nibh. Suspendisse potenti. Donec ullamcorper cursus dolor. Duis vitae ipsum. Maecenas dapibus hendrerit diam. Morbi varius, massa id pretium accumsan, nunc lorem congue libero, ut euismod metus libero id nulla.</p>, Disponível também em formato ebook, https://s3.novatec.com.br/capas/9788575226674.jpg, 978-85-7522-667-4, 576, List(autores/igor-zhirkov.php, null), null, 120, Programação em Baixo Nível), List(2018, List(José Augusto N. G. Manzano, null), Programação, <p>Duis posuere odio sed velit vulputate venenatis. Suspendisse et dui ac metus auctor fringilla. Curabitur interdum augue a pede.</p>>, Disponível também em formato ebook, https://s3.novatec.com.br/capas/9788575226681.jpg, 978-85-7522-668-1, 176, List(autores/jose-manzano.php, null), livros/introducao-a-linguagem-lua, 52, Introdução à linguagem Lua), List(2018, List(Edécio Fernando Iepsen, null), Programação, <p>Duis cursus, dui non dictum tincidunt, wisi ipsum mollis wisi, nec ornare velit ipsum eget enim. In sed felis. Phasellus condimentum sodales nulla. Etiam orci leo, rutrum malesuada, congue vel, fringilla vitae, lorem. Pellentesque ligula.</p>, Disponível também em formato ebook, https://s3.novatec.com.br/capas/9788575226568.jpg, 978-85-7522-656-8, 320, List(autores/edecio-iepsen.php, null), null, 69, Lógica de Programação e Algoritmos com JavaScript), List(2017, List(Juliano Niederauer, null), Programação, <p>Cras gravida. Mauris consequat aliquam leo. Aenean non tortor id metus aliquet consectetuer. Quisque sodales lectus ac orci. Donec eleifend fringilla mi. Vivamus vel massa. Aenean interdum pellentesque sem. Nulla pellentesque felis et tortor. Duis cursus, dui non dictum tincidunt, wisi ipsum mollis wisi, nec ornare velit ipsum eget enim. In sed felis. Phasellus condimentum sodales nulla. Etiam orci leo, rutrum malesuada, congue vel, fringilla vitae, lorem. Pellentesque ligula.</p>, Disponível também em formato ebook, https://s3.novatec.com.br/capas/9788575225905.jpg, 978-85-7522-590-5, 544, List(autores/niederauer.php, null), livros/php-para-quem-conhece-php-5ed/, 99, PHP para quem conhece PHP - 5ª Edição), List(2017, List(Alan A. Donovan, Brian W. Kernighan), Programação, <p>Lorem ipsum dolor sit amet, consectetuer adipiscing elit. Morbi eleifend, purus quis laoreet faucibus, ante augue malesuada mi, id rhoncus augue lorem eget elit. Ut sollicitudin sodales purus. Phasellus libero felis, blandit nec, commodo ut, imperdiet ut, nibh. Suspendisse potenti. Donec ullamcorper cursus dolor. Duis vitae ipsum. Maecenas dapibus hendrerit diam. Morbi varius, massa id pretium accumsan, nunc lorem congue libero, ut euismod metus libero id nulla. Duis posuere odio sed velit vulputate venenatis. Suspendisse et dui ac metus auctor fringilla. Curabitur interdum augue a pede.</p><p>Curabitur hendrerit erat ut augue. Cras gravida. Mauris consequat aliquam leo. Aenean non tortor id metus aliquet consectetuer. Quisque sodales lectus ac orci. Donec eleifend fringilla mi. Vivamus vel massa. Aenean interdum pellentesque sem. Nulla pellentesque felis et tortor. Duis cursus, dui non dictum tincidunt, wisi ipsum mollis wisi, nec ornare velit ipsum eget enim. In sed felis. Phasellus condimentum sodales nulla. Etiam orci leo, rutrum malesuada, congue vel, fringilla vitae, lorem. Pellentesque ligula.</p>, , https://s3.novatec.com.br/capas/9788575225462.jpg, 978-85-7522-546-2, 480, List(autores/alan-donovan.php, autores/brian-kernighan.php), livros/linguagem-de-programacao-go/, 98, A Linguagem de Programação Go))</td><td>List(2017, List(Juliano Niederauer, null), Programação, <p>Cras gravida. Mauris consequat aliquam leo. Aenean non tortor id metus aliquet consectetuer. Quisque sodales lectus ac orci. Donec eleifend fringilla mi. Vivamus vel massa. Aenean interdum pellentesque sem. Nulla pellentesque felis et tortor. Duis cursus, dui non dictum tincidunt, wisi ipsum mollis wisi, nec ornare velit ipsum eget enim. In sed felis. Phasellus condimentum sodales nulla. Etiam orci leo, rutrum malesuada, congue vel, fringilla vitae, lorem. Pellentesque ligula.</p>, Disponível também em formato ebook, https://s3.novatec.com.br/capas/9788575225905.jpg, 978-85-7522-590-5, 544, List(autores/niederauer.php, null), livros/php-para-quem-conhece-php-5ed/, 99, PHP para quem conhece PHP - 5ª Edição)</td></tr><tr><td>List(List(2018, List(José Augusto N. G. Manzano, null), Programação, <p>Lorem ipsum dolor sit amet, consectetuer adipiscing elit. Morbi eleifend, purus quis laoreet faucibus, ante augue malesuada mi, id rhoncus augue lorem eget elit. Ut sollicitudin sodales purus.</p>, Disponível também em formato ebook, https://s3.novatec.com.br/capas/9788575226834.jpg, 978-85-7522-683-4, 312, List(autores/jose-manzano.php, null), null, 69, Primeiros passos com a linguagem Rust), List(2018, List(Igor Zhirkov, null), Hardware &amp; Robótica, <p>Phasellus libero felis, blandit nec, commodo ut, imperdiet ut, nibh. Suspendisse potenti. Donec ullamcorper cursus dolor. Duis vitae ipsum. Maecenas dapibus hendrerit diam. Morbi varius, massa id pretium accumsan, nunc lorem congue libero, ut euismod metus libero id nulla.</p>, Disponível também em formato ebook, https://s3.novatec.com.br/capas/9788575226674.jpg, 978-85-7522-667-4, 576, List(autores/igor-zhirkov.php, null), null, 120, Programação em Baixo Nível), List(2018, List(José Augusto N. G. Manzano, null), Programação, <p>Duis posuere odio sed velit vulputate venenatis. Suspendisse et dui ac metus auctor fringilla. Curabitur interdum augue a pede.</p>>, Disponível também em formato ebook, https://s3.novatec.com.br/capas/9788575226681.jpg, 978-85-7522-668-1, 176, List(autores/jose-manzano.php, null), livros/introducao-a-linguagem-lua, 52, Introdução à linguagem Lua), List(2018, List(Edécio Fernando Iepsen, null), Programação, <p>Duis cursus, dui non dictum tincidunt, wisi ipsum mollis wisi, nec ornare velit ipsum eget enim. In sed felis. Phasellus condimentum sodales nulla. Etiam orci leo, rutrum malesuada, congue vel, fringilla vitae, lorem. Pellentesque ligula.</p>, Disponível também em formato ebook, https://s3.novatec.com.br/capas/9788575226568.jpg, 978-85-7522-656-8, 320, List(autores/edecio-iepsen.php, null), null, 69, Lógica de Programação e Algoritmos com JavaScript), List(2017, List(Juliano Niederauer, null), Programação, <p>Cras gravida. Mauris consequat aliquam leo. Aenean non tortor id metus aliquet consectetuer. Quisque sodales lectus ac orci. Donec eleifend fringilla mi. Vivamus vel massa. Aenean interdum pellentesque sem. Nulla pellentesque felis et tortor. Duis cursus, dui non dictum tincidunt, wisi ipsum mollis wisi, nec ornare velit ipsum eget enim. In sed felis. Phasellus condimentum sodales nulla. Etiam orci leo, rutrum malesuada, congue vel, fringilla vitae, lorem. Pellentesque ligula.</p>, Disponível também em formato ebook, https://s3.novatec.com.br/capas/9788575225905.jpg, 978-85-7522-590-5, 544, List(autores/niederauer.php, null), livros/php-para-quem-conhece-php-5ed/, 99, PHP para quem conhece PHP - 5ª Edição), List(2017, List(Alan A. Donovan, Brian W. Kernighan), Programação, <p>Lorem ipsum dolor sit amet, consectetuer adipiscing elit. Morbi eleifend, purus quis laoreet faucibus, ante augue malesuada mi, id rhoncus augue lorem eget elit. Ut sollicitudin sodales purus. Phasellus libero felis, blandit nec, commodo ut, imperdiet ut, nibh. Suspendisse potenti. Donec ullamcorper cursus dolor. Duis vitae ipsum. Maecenas dapibus hendrerit diam. Morbi varius, massa id pretium accumsan, nunc lorem congue libero, ut euismod metus libero id nulla. Duis posuere odio sed velit vulputate venenatis. Suspendisse et dui ac metus auctor fringilla. Curabitur interdum augue a pede.</p><p>Curabitur hendrerit erat ut augue. Cras gravida. Mauris consequat aliquam leo. Aenean non tortor id metus aliquet consectetuer. Quisque sodales lectus ac orci. Donec eleifend fringilla mi. Vivamus vel massa. Aenean interdum pellentesque sem. Nulla pellentesque felis et tortor. Duis cursus, dui non dictum tincidunt, wisi ipsum mollis wisi, nec ornare velit ipsum eget enim. In sed felis. Phasellus condimentum sodales nulla. Etiam orci leo, rutrum malesuada, congue vel, fringilla vitae, lorem. Pellentesque ligula.</p>, , https://s3.novatec.com.br/capas/9788575225462.jpg, 978-85-7522-546-2, 480, List(autores/alan-donovan.php, autores/brian-kernighan.php), livros/linguagem-de-programacao-go/, 98, A Linguagem de Programação Go))</td><td>List(2017, List(Alan A. Donovan, Brian W. Kernighan), Programação, <p>Lorem ipsum dolor sit amet, consectetuer adipiscing elit. Morbi eleifend, purus quis laoreet faucibus, ante augue malesuada mi, id rhoncus augue lorem eget elit. Ut sollicitudin sodales purus. Phasellus libero felis, blandit nec, commodo ut, imperdiet ut, nibh. Suspendisse potenti. Donec ullamcorper cursus dolor. Duis vitae ipsum. Maecenas dapibus hendrerit diam. Morbi varius, massa id pretium accumsan, nunc lorem congue libero, ut euismod metus libero id nulla. Duis posuere odio sed velit vulputate venenatis. Suspendisse et dui ac metus auctor fringilla. Curabitur interdum augue a pede.</p><p>Curabitur hendrerit erat ut augue. Cras gravida. Mauris consequat aliquam leo. Aenean non tortor id metus aliquet consectetuer. Quisque sodales lectus ac orci. Donec eleifend fringilla mi. Vivamus vel massa. Aenean interdum pellentesque sem. Nulla pellentesque felis et tortor. Duis cursus, dui non dictum tincidunt, wisi ipsum mollis wisi, nec ornare velit ipsum eget enim. In sed felis. Phasellus condimentum sodales nulla. Etiam orci leo, rutrum malesuada, congue vel, fringilla vitae, lorem. Pellentesque ligula.</p>, , https://s3.novatec.com.br/capas/9788575225462.jpg, 978-85-7522-546-2, 480, List(autores/alan-donovan.php, autores/brian-kernighan.php), livros/linguagem-de-programacao-go/, 98, A Linguagem de Programação Go)</td></tr></tbody></table></div>"
      ]
     },
     "metadata": {
      "application/vnd.databricks.v1+output": {
       "addedWidgets": {},
       "aggData": [],
       "aggError": "",
       "aggOverflow": false,
       "aggSchema": [],
       "aggSeriesLimitReached": false,
       "aggType": "",
       "arguments": {},
       "columnCustomDisplayInfos": {},
       "data": [
        [
         [
          [
           "2018",
           [
            "José Augusto N. G. Manzano",
            null
           ],
           "Programação",
           "<p>Lorem ipsum dolor sit amet, consectetuer adipiscing elit. Morbi eleifend, purus quis laoreet faucibus, ante augue malesuada mi, id rhoncus augue lorem eget elit. Ut sollicitudin sodales purus.</p>",
           "Disponível também em formato ebook",
           "https://s3.novatec.com.br/capas/9788575226834.jpg",
           "978-85-7522-683-4",
           "312",
           [
            "autores/jose-manzano.php",
            null
           ],
           null,
           69,
           "Primeiros passos com a linguagem Rust"
          ],
          [
           "2018",
           [
            "Igor Zhirkov",
            null
           ],
           "Hardware &amp; Robótica",
           "<p>Phasellus libero felis, blandit nec, commodo ut, imperdiet ut, nibh. Suspendisse potenti. Donec ullamcorper cursus dolor. Duis vitae ipsum. Maecenas dapibus hendrerit diam. Morbi varius, massa id pretium accumsan, nunc lorem congue libero, ut euismod metus libero id nulla.</p>",
           "Disponível também em formato ebook",
           "https://s3.novatec.com.br/capas/9788575226674.jpg",
           "978-85-7522-667-4",
           "576",
           [
            "autores/igor-zhirkov.php",
            null
           ],
           null,
           120,
           "Programação em Baixo Nível"
          ],
          [
           "2018",
           [
            "José Augusto N. G. Manzano",
            null
           ],
           "Programação",
           "<p>Duis posuere odio sed velit vulputate venenatis. Suspendisse et dui ac metus auctor fringilla. Curabitur interdum augue a pede.</p>>",
           "Disponível também em formato ebook",
           "https://s3.novatec.com.br/capas/9788575226681.jpg",
           "978-85-7522-668-1",
           "176",
           [
            "autores/jose-manzano.php",
            null
           ],
           "livros/introducao-a-linguagem-lua",
           52,
           "Introdução à linguagem Lua"
          ],
          [
           "2018",
           [
            "Edécio Fernando Iepsen",
            null
           ],
           "Programação",
           "<p>Duis cursus, dui non dictum tincidunt, wisi ipsum mollis wisi, nec ornare velit ipsum eget enim. In sed felis. Phasellus condimentum sodales nulla. Etiam orci leo, rutrum malesuada, congue vel, fringilla vitae, lorem. Pellentesque ligula.</p>",
           "Disponível também em formato ebook",
           "https://s3.novatec.com.br/capas/9788575226568.jpg",
           "978-85-7522-656-8",
           "320",
           [
            "autores/edecio-iepsen.php",
            null
           ],
           null,
           69,
           "Lógica de Programação e Algoritmos com JavaScript"
          ],
          [
           "2017",
           [
            "Juliano Niederauer",
            null
           ],
           "Programação",
           "<p>Cras gravida. Mauris consequat aliquam leo. Aenean non tortor id metus aliquet consectetuer. Quisque sodales lectus ac orci. Donec eleifend fringilla mi. Vivamus vel massa. Aenean interdum pellentesque sem. Nulla pellentesque felis et tortor. Duis cursus, dui non dictum tincidunt, wisi ipsum mollis wisi, nec ornare velit ipsum eget enim. In sed felis. Phasellus condimentum sodales nulla. Etiam orci leo, rutrum malesuada, congue vel, fringilla vitae, lorem. Pellentesque ligula.</p>",
           "Disponível também em formato ebook",
           "https://s3.novatec.com.br/capas/9788575225905.jpg",
           "978-85-7522-590-5",
           "544",
           [
            "autores/niederauer.php",
            null
           ],
           "livros/php-para-quem-conhece-php-5ed/",
           99,
           "PHP para quem conhece PHP - 5ª Edição"
          ],
          [
           "2017",
           [
            "Alan A. Donovan",
            "Brian W. Kernighan"
           ],
           "Programação",
           "<p>Lorem ipsum dolor sit amet, consectetuer adipiscing elit. Morbi eleifend, purus quis laoreet faucibus, ante augue malesuada mi, id rhoncus augue lorem eget elit. Ut sollicitudin sodales purus. Phasellus libero felis, blandit nec, commodo ut, imperdiet ut, nibh. Suspendisse potenti. Donec ullamcorper cursus dolor. Duis vitae ipsum. Maecenas dapibus hendrerit diam. Morbi varius, massa id pretium accumsan, nunc lorem congue libero, ut euismod metus libero id nulla. Duis posuere odio sed velit vulputate venenatis. Suspendisse et dui ac metus auctor fringilla. Curabitur interdum augue a pede.</p><p>Curabitur hendrerit erat ut augue. Cras gravida. Mauris consequat aliquam leo. Aenean non tortor id metus aliquet consectetuer. Quisque sodales lectus ac orci. Donec eleifend fringilla mi. Vivamus vel massa. Aenean interdum pellentesque sem. Nulla pellentesque felis et tortor. Duis cursus, dui non dictum tincidunt, wisi ipsum mollis wisi, nec ornare velit ipsum eget enim. In sed felis. Phasellus condimentum sodales nulla. Etiam orci leo, rutrum malesuada, congue vel, fringilla vitae, lorem. Pellentesque ligula.</p>",
           "",
           "https://s3.novatec.com.br/capas/9788575225462.jpg",
           "978-85-7522-546-2",
           "480",
           [
            "autores/alan-donovan.php",
            "autores/brian-kernighan.php"
           ],
           "livros/linguagem-de-programacao-go/",
           98,
           "A Linguagem de Programação Go"
          ]
         ],
         [
          "2018",
          [
           "José Augusto N. G. Manzano",
           null
          ],
          "Programação",
          "<p>Lorem ipsum dolor sit amet, consectetuer adipiscing elit. Morbi eleifend, purus quis laoreet faucibus, ante augue malesuada mi, id rhoncus augue lorem eget elit. Ut sollicitudin sodales purus.</p>",
          "Disponível também em formato ebook",
          "https://s3.novatec.com.br/capas/9788575226834.jpg",
          "978-85-7522-683-4",
          "312",
          [
           "autores/jose-manzano.php",
           null
          ],
          null,
          69,
          "Primeiros passos com a linguagem Rust"
         ]
        ],
        [
         [
          [
           "2018",
           [
            "José Augusto N. G. Manzano",
            null
           ],
           "Programação",
           "<p>Lorem ipsum dolor sit amet, consectetuer adipiscing elit. Morbi eleifend, purus quis laoreet faucibus, ante augue malesuada mi, id rhoncus augue lorem eget elit. Ut sollicitudin sodales purus.</p>",
           "Disponível também em formato ebook",
           "https://s3.novatec.com.br/capas/9788575226834.jpg",
           "978-85-7522-683-4",
           "312",
           [
            "autores/jose-manzano.php",
            null
           ],
           null,
           69,
           "Primeiros passos com a linguagem Rust"
          ],
          [
           "2018",
           [
            "Igor Zhirkov",
            null
           ],
           "Hardware &amp; Robótica",
           "<p>Phasellus libero felis, blandit nec, commodo ut, imperdiet ut, nibh. Suspendisse potenti. Donec ullamcorper cursus dolor. Duis vitae ipsum. Maecenas dapibus hendrerit diam. Morbi varius, massa id pretium accumsan, nunc lorem congue libero, ut euismod metus libero id nulla.</p>",
           "Disponível também em formato ebook",
           "https://s3.novatec.com.br/capas/9788575226674.jpg",
           "978-85-7522-667-4",
           "576",
           [
            "autores/igor-zhirkov.php",
            null
           ],
           null,
           120,
           "Programação em Baixo Nível"
          ],
          [
           "2018",
           [
            "José Augusto N. G. Manzano",
            null
           ],
           "Programação",
           "<p>Duis posuere odio sed velit vulputate venenatis. Suspendisse et dui ac metus auctor fringilla. Curabitur interdum augue a pede.</p>>",
           "Disponível também em formato ebook",
           "https://s3.novatec.com.br/capas/9788575226681.jpg",
           "978-85-7522-668-1",
           "176",
           [
            "autores/jose-manzano.php",
            null
           ],
           "livros/introducao-a-linguagem-lua",
           52,
           "Introdução à linguagem Lua"
          ],
          [
           "2018",
           [
            "Edécio Fernando Iepsen",
            null
           ],
           "Programação",
           "<p>Duis cursus, dui non dictum tincidunt, wisi ipsum mollis wisi, nec ornare velit ipsum eget enim. In sed felis. Phasellus condimentum sodales nulla. Etiam orci leo, rutrum malesuada, congue vel, fringilla vitae, lorem. Pellentesque ligula.</p>",
           "Disponível também em formato ebook",
           "https://s3.novatec.com.br/capas/9788575226568.jpg",
           "978-85-7522-656-8",
           "320",
           [
            "autores/edecio-iepsen.php",
            null
           ],
           null,
           69,
           "Lógica de Programação e Algoritmos com JavaScript"
          ],
          [
           "2017",
           [
            "Juliano Niederauer",
            null
           ],
           "Programação",
           "<p>Cras gravida. Mauris consequat aliquam leo. Aenean non tortor id metus aliquet consectetuer. Quisque sodales lectus ac orci. Donec eleifend fringilla mi. Vivamus vel massa. Aenean interdum pellentesque sem. Nulla pellentesque felis et tortor. Duis cursus, dui non dictum tincidunt, wisi ipsum mollis wisi, nec ornare velit ipsum eget enim. In sed felis. Phasellus condimentum sodales nulla. Etiam orci leo, rutrum malesuada, congue vel, fringilla vitae, lorem. Pellentesque ligula.</p>",
           "Disponível também em formato ebook",
           "https://s3.novatec.com.br/capas/9788575225905.jpg",
           "978-85-7522-590-5",
           "544",
           [
            "autores/niederauer.php",
            null
           ],
           "livros/php-para-quem-conhece-php-5ed/",
           99,
           "PHP para quem conhece PHP - 5ª Edição"
          ],
          [
           "2017",
           [
            "Alan A. Donovan",
            "Brian W. Kernighan"
           ],
           "Programação",
           "<p>Lorem ipsum dolor sit amet, consectetuer adipiscing elit. Morbi eleifend, purus quis laoreet faucibus, ante augue malesuada mi, id rhoncus augue lorem eget elit. Ut sollicitudin sodales purus. Phasellus libero felis, blandit nec, commodo ut, imperdiet ut, nibh. Suspendisse potenti. Donec ullamcorper cursus dolor. Duis vitae ipsum. Maecenas dapibus hendrerit diam. Morbi varius, massa id pretium accumsan, nunc lorem congue libero, ut euismod metus libero id nulla. Duis posuere odio sed velit vulputate venenatis. Suspendisse et dui ac metus auctor fringilla. Curabitur interdum augue a pede.</p><p>Curabitur hendrerit erat ut augue. Cras gravida. Mauris consequat aliquam leo. Aenean non tortor id metus aliquet consectetuer. Quisque sodales lectus ac orci. Donec eleifend fringilla mi. Vivamus vel massa. Aenean interdum pellentesque sem. Nulla pellentesque felis et tortor. Duis cursus, dui non dictum tincidunt, wisi ipsum mollis wisi, nec ornare velit ipsum eget enim. In sed felis. Phasellus condimentum sodales nulla. Etiam orci leo, rutrum malesuada, congue vel, fringilla vitae, lorem. Pellentesque ligula.</p>",
           "",
           "https://s3.novatec.com.br/capas/9788575225462.jpg",
           "978-85-7522-546-2",
           "480",
           [
            "autores/alan-donovan.php",
            "autores/brian-kernighan.php"
           ],
           "livros/linguagem-de-programacao-go/",
           98,
           "A Linguagem de Programação Go"
          ]
         ],
         [
          "2018",
          [
           "Igor Zhirkov",
           null
          ],
          "Hardware &amp; Robótica",
          "<p>Phasellus libero felis, blandit nec, commodo ut, imperdiet ut, nibh. Suspendisse potenti. Donec ullamcorper cursus dolor. Duis vitae ipsum. Maecenas dapibus hendrerit diam. Morbi varius, massa id pretium accumsan, nunc lorem congue libero, ut euismod metus libero id nulla.</p>",
          "Disponível também em formato ebook",
          "https://s3.novatec.com.br/capas/9788575226674.jpg",
          "978-85-7522-667-4",
          "576",
          [
           "autores/igor-zhirkov.php",
           null
          ],
          null,
          120,
          "Programação em Baixo Nível"
         ]
        ],
        [
         [
          [
           "2018",
           [
            "José Augusto N. G. Manzano",
            null
           ],
           "Programação",
           "<p>Lorem ipsum dolor sit amet, consectetuer adipiscing elit. Morbi eleifend, purus quis laoreet faucibus, ante augue malesuada mi, id rhoncus augue lorem eget elit. Ut sollicitudin sodales purus.</p>",
           "Disponível também em formato ebook",
           "https://s3.novatec.com.br/capas/9788575226834.jpg",
           "978-85-7522-683-4",
           "312",
           [
            "autores/jose-manzano.php",
            null
           ],
           null,
           69,
           "Primeiros passos com a linguagem Rust"
          ],
          [
           "2018",
           [
            "Igor Zhirkov",
            null
           ],
           "Hardware &amp; Robótica",
           "<p>Phasellus libero felis, blandit nec, commodo ut, imperdiet ut, nibh. Suspendisse potenti. Donec ullamcorper cursus dolor. Duis vitae ipsum. Maecenas dapibus hendrerit diam. Morbi varius, massa id pretium accumsan, nunc lorem congue libero, ut euismod metus libero id nulla.</p>",
           "Disponível também em formato ebook",
           "https://s3.novatec.com.br/capas/9788575226674.jpg",
           "978-85-7522-667-4",
           "576",
           [
            "autores/igor-zhirkov.php",
            null
           ],
           null,
           120,
           "Programação em Baixo Nível"
          ],
          [
           "2018",
           [
            "José Augusto N. G. Manzano",
            null
           ],
           "Programação",
           "<p>Duis posuere odio sed velit vulputate venenatis. Suspendisse et dui ac metus auctor fringilla. Curabitur interdum augue a pede.</p>>",
           "Disponível também em formato ebook",
           "https://s3.novatec.com.br/capas/9788575226681.jpg",
           "978-85-7522-668-1",
           "176",
           [
            "autores/jose-manzano.php",
            null
           ],
           "livros/introducao-a-linguagem-lua",
           52,
           "Introdução à linguagem Lua"
          ],
          [
           "2018",
           [
            "Edécio Fernando Iepsen",
            null
           ],
           "Programação",
           "<p>Duis cursus, dui non dictum tincidunt, wisi ipsum mollis wisi, nec ornare velit ipsum eget enim. In sed felis. Phasellus condimentum sodales nulla. Etiam orci leo, rutrum malesuada, congue vel, fringilla vitae, lorem. Pellentesque ligula.</p>",
           "Disponível também em formato ebook",
           "https://s3.novatec.com.br/capas/9788575226568.jpg",
           "978-85-7522-656-8",
           "320",
           [
            "autores/edecio-iepsen.php",
            null
           ],
           null,
           69,
           "Lógica de Programação e Algoritmos com JavaScript"
          ],
          [
           "2017",
           [
            "Juliano Niederauer",
            null
           ],
           "Programação",
           "<p>Cras gravida. Mauris consequat aliquam leo. Aenean non tortor id metus aliquet consectetuer. Quisque sodales lectus ac orci. Donec eleifend fringilla mi. Vivamus vel massa. Aenean interdum pellentesque sem. Nulla pellentesque felis et tortor. Duis cursus, dui non dictum tincidunt, wisi ipsum mollis wisi, nec ornare velit ipsum eget enim. In sed felis. Phasellus condimentum sodales nulla. Etiam orci leo, rutrum malesuada, congue vel, fringilla vitae, lorem. Pellentesque ligula.</p>",
           "Disponível também em formato ebook",
           "https://s3.novatec.com.br/capas/9788575225905.jpg",
           "978-85-7522-590-5",
           "544",
           [
            "autores/niederauer.php",
            null
           ],
           "livros/php-para-quem-conhece-php-5ed/",
           99,
           "PHP para quem conhece PHP - 5ª Edição"
          ],
          [
           "2017",
           [
            "Alan A. Donovan",
            "Brian W. Kernighan"
           ],
           "Programação",
           "<p>Lorem ipsum dolor sit amet, consectetuer adipiscing elit. Morbi eleifend, purus quis laoreet faucibus, ante augue malesuada mi, id rhoncus augue lorem eget elit. Ut sollicitudin sodales purus. Phasellus libero felis, blandit nec, commodo ut, imperdiet ut, nibh. Suspendisse potenti. Donec ullamcorper cursus dolor. Duis vitae ipsum. Maecenas dapibus hendrerit diam. Morbi varius, massa id pretium accumsan, nunc lorem congue libero, ut euismod metus libero id nulla. Duis posuere odio sed velit vulputate venenatis. Suspendisse et dui ac metus auctor fringilla. Curabitur interdum augue a pede.</p><p>Curabitur hendrerit erat ut augue. Cras gravida. Mauris consequat aliquam leo. Aenean non tortor id metus aliquet consectetuer. Quisque sodales lectus ac orci. Donec eleifend fringilla mi. Vivamus vel massa. Aenean interdum pellentesque sem. Nulla pellentesque felis et tortor. Duis cursus, dui non dictum tincidunt, wisi ipsum mollis wisi, nec ornare velit ipsum eget enim. In sed felis. Phasellus condimentum sodales nulla. Etiam orci leo, rutrum malesuada, congue vel, fringilla vitae, lorem. Pellentesque ligula.</p>",
           "",
           "https://s3.novatec.com.br/capas/9788575225462.jpg",
           "978-85-7522-546-2",
           "480",
           [
            "autores/alan-donovan.php",
            "autores/brian-kernighan.php"
           ],
           "livros/linguagem-de-programacao-go/",
           98,
           "A Linguagem de Programação Go"
          ]
         ],
         [
          "2018",
          [
           "José Augusto N. G. Manzano",
           null
          ],
          "Programação",
          "<p>Duis posuere odio sed velit vulputate venenatis. Suspendisse et dui ac metus auctor fringilla. Curabitur interdum augue a pede.</p>>",
          "Disponível também em formato ebook",
          "https://s3.novatec.com.br/capas/9788575226681.jpg",
          "978-85-7522-668-1",
          "176",
          [
           "autores/jose-manzano.php",
           null
          ],
          "livros/introducao-a-linguagem-lua",
          52,
          "Introdução à linguagem Lua"
         ]
        ],
        [
         [
          [
           "2018",
           [
            "José Augusto N. G. Manzano",
            null
           ],
           "Programação",
           "<p>Lorem ipsum dolor sit amet, consectetuer adipiscing elit. Morbi eleifend, purus quis laoreet faucibus, ante augue malesuada mi, id rhoncus augue lorem eget elit. Ut sollicitudin sodales purus.</p>",
           "Disponível também em formato ebook",
           "https://s3.novatec.com.br/capas/9788575226834.jpg",
           "978-85-7522-683-4",
           "312",
           [
            "autores/jose-manzano.php",
            null
           ],
           null,
           69,
           "Primeiros passos com a linguagem Rust"
          ],
          [
           "2018",
           [
            "Igor Zhirkov",
            null
           ],
           "Hardware &amp; Robótica",
           "<p>Phasellus libero felis, blandit nec, commodo ut, imperdiet ut, nibh. Suspendisse potenti. Donec ullamcorper cursus dolor. Duis vitae ipsum. Maecenas dapibus hendrerit diam. Morbi varius, massa id pretium accumsan, nunc lorem congue libero, ut euismod metus libero id nulla.</p>",
           "Disponível também em formato ebook",
           "https://s3.novatec.com.br/capas/9788575226674.jpg",
           "978-85-7522-667-4",
           "576",
           [
            "autores/igor-zhirkov.php",
            null
           ],
           null,
           120,
           "Programação em Baixo Nível"
          ],
          [
           "2018",
           [
            "José Augusto N. G. Manzano",
            null
           ],
           "Programação",
           "<p>Duis posuere odio sed velit vulputate venenatis. Suspendisse et dui ac metus auctor fringilla. Curabitur interdum augue a pede.</p>>",
           "Disponível também em formato ebook",
           "https://s3.novatec.com.br/capas/9788575226681.jpg",
           "978-85-7522-668-1",
           "176",
           [
            "autores/jose-manzano.php",
            null
           ],
           "livros/introducao-a-linguagem-lua",
           52,
           "Introdução à linguagem Lua"
          ],
          [
           "2018",
           [
            "Edécio Fernando Iepsen",
            null
           ],
           "Programação",
           "<p>Duis cursus, dui non dictum tincidunt, wisi ipsum mollis wisi, nec ornare velit ipsum eget enim. In sed felis. Phasellus condimentum sodales nulla. Etiam orci leo, rutrum malesuada, congue vel, fringilla vitae, lorem. Pellentesque ligula.</p>",
           "Disponível também em formato ebook",
           "https://s3.novatec.com.br/capas/9788575226568.jpg",
           "978-85-7522-656-8",
           "320",
           [
            "autores/edecio-iepsen.php",
            null
           ],
           null,
           69,
           "Lógica de Programação e Algoritmos com JavaScript"
          ],
          [
           "2017",
           [
            "Juliano Niederauer",
            null
           ],
           "Programação",
           "<p>Cras gravida. Mauris consequat aliquam leo. Aenean non tortor id metus aliquet consectetuer. Quisque sodales lectus ac orci. Donec eleifend fringilla mi. Vivamus vel massa. Aenean interdum pellentesque sem. Nulla pellentesque felis et tortor. Duis cursus, dui non dictum tincidunt, wisi ipsum mollis wisi, nec ornare velit ipsum eget enim. In sed felis. Phasellus condimentum sodales nulla. Etiam orci leo, rutrum malesuada, congue vel, fringilla vitae, lorem. Pellentesque ligula.</p>",
           "Disponível também em formato ebook",
           "https://s3.novatec.com.br/capas/9788575225905.jpg",
           "978-85-7522-590-5",
           "544",
           [
            "autores/niederauer.php",
            null
           ],
           "livros/php-para-quem-conhece-php-5ed/",
           99,
           "PHP para quem conhece PHP - 5ª Edição"
          ],
          [
           "2017",
           [
            "Alan A. Donovan",
            "Brian W. Kernighan"
           ],
           "Programação",
           "<p>Lorem ipsum dolor sit amet, consectetuer adipiscing elit. Morbi eleifend, purus quis laoreet faucibus, ante augue malesuada mi, id rhoncus augue lorem eget elit. Ut sollicitudin sodales purus. Phasellus libero felis, blandit nec, commodo ut, imperdiet ut, nibh. Suspendisse potenti. Donec ullamcorper cursus dolor. Duis vitae ipsum. Maecenas dapibus hendrerit diam. Morbi varius, massa id pretium accumsan, nunc lorem congue libero, ut euismod metus libero id nulla. Duis posuere odio sed velit vulputate venenatis. Suspendisse et dui ac metus auctor fringilla. Curabitur interdum augue a pede.</p><p>Curabitur hendrerit erat ut augue. Cras gravida. Mauris consequat aliquam leo. Aenean non tortor id metus aliquet consectetuer. Quisque sodales lectus ac orci. Donec eleifend fringilla mi. Vivamus vel massa. Aenean interdum pellentesque sem. Nulla pellentesque felis et tortor. Duis cursus, dui non dictum tincidunt, wisi ipsum mollis wisi, nec ornare velit ipsum eget enim. In sed felis. Phasellus condimentum sodales nulla. Etiam orci leo, rutrum malesuada, congue vel, fringilla vitae, lorem. Pellentesque ligula.</p>",
           "",
           "https://s3.novatec.com.br/capas/9788575225462.jpg",
           "978-85-7522-546-2",
           "480",
           [
            "autores/alan-donovan.php",
            "autores/brian-kernighan.php"
           ],
           "livros/linguagem-de-programacao-go/",
           98,
           "A Linguagem de Programação Go"
          ]
         ],
         [
          "2018",
          [
           "Edécio Fernando Iepsen",
           null
          ],
          "Programação",
          "<p>Duis cursus, dui non dictum tincidunt, wisi ipsum mollis wisi, nec ornare velit ipsum eget enim. In sed felis. Phasellus condimentum sodales nulla. Etiam orci leo, rutrum malesuada, congue vel, fringilla vitae, lorem. Pellentesque ligula.</p>",
          "Disponível também em formato ebook",
          "https://s3.novatec.com.br/capas/9788575226568.jpg",
          "978-85-7522-656-8",
          "320",
          [
           "autores/edecio-iepsen.php",
           null
          ],
          null,
          69,
          "Lógica de Programação e Algoritmos com JavaScript"
         ]
        ],
        [
         [
          [
           "2018",
           [
            "José Augusto N. G. Manzano",
            null
           ],
           "Programação",
           "<p>Lorem ipsum dolor sit amet, consectetuer adipiscing elit. Morbi eleifend, purus quis laoreet faucibus, ante augue malesuada mi, id rhoncus augue lorem eget elit. Ut sollicitudin sodales purus.</p>",
           "Disponível também em formato ebook",
           "https://s3.novatec.com.br/capas/9788575226834.jpg",
           "978-85-7522-683-4",
           "312",
           [
            "autores/jose-manzano.php",
            null
           ],
           null,
           69,
           "Primeiros passos com a linguagem Rust"
          ],
          [
           "2018",
           [
            "Igor Zhirkov",
            null
           ],
           "Hardware &amp; Robótica",
           "<p>Phasellus libero felis, blandit nec, commodo ut, imperdiet ut, nibh. Suspendisse potenti. Donec ullamcorper cursus dolor. Duis vitae ipsum. Maecenas dapibus hendrerit diam. Morbi varius, massa id pretium accumsan, nunc lorem congue libero, ut euismod metus libero id nulla.</p>",
           "Disponível também em formato ebook",
           "https://s3.novatec.com.br/capas/9788575226674.jpg",
           "978-85-7522-667-4",
           "576",
           [
            "autores/igor-zhirkov.php",
            null
           ],
           null,
           120,
           "Programação em Baixo Nível"
          ],
          [
           "2018",
           [
            "José Augusto N. G. Manzano",
            null
           ],
           "Programação",
           "<p>Duis posuere odio sed velit vulputate venenatis. Suspendisse et dui ac metus auctor fringilla. Curabitur interdum augue a pede.</p>>",
           "Disponível também em formato ebook",
           "https://s3.novatec.com.br/capas/9788575226681.jpg",
           "978-85-7522-668-1",
           "176",
           [
            "autores/jose-manzano.php",
            null
           ],
           "livros/introducao-a-linguagem-lua",
           52,
           "Introdução à linguagem Lua"
          ],
          [
           "2018",
           [
            "Edécio Fernando Iepsen",
            null
           ],
           "Programação",
           "<p>Duis cursus, dui non dictum tincidunt, wisi ipsum mollis wisi, nec ornare velit ipsum eget enim. In sed felis. Phasellus condimentum sodales nulla. Etiam orci leo, rutrum malesuada, congue vel, fringilla vitae, lorem. Pellentesque ligula.</p>",
           "Disponível também em formato ebook",
           "https://s3.novatec.com.br/capas/9788575226568.jpg",
           "978-85-7522-656-8",
           "320",
           [
            "autores/edecio-iepsen.php",
            null
           ],
           null,
           69,
           "Lógica de Programação e Algoritmos com JavaScript"
          ],
          [
           "2017",
           [
            "Juliano Niederauer",
            null
           ],
           "Programação",
           "<p>Cras gravida. Mauris consequat aliquam leo. Aenean non tortor id metus aliquet consectetuer. Quisque sodales lectus ac orci. Donec eleifend fringilla mi. Vivamus vel massa. Aenean interdum pellentesque sem. Nulla pellentesque felis et tortor. Duis cursus, dui non dictum tincidunt, wisi ipsum mollis wisi, nec ornare velit ipsum eget enim. In sed felis. Phasellus condimentum sodales nulla. Etiam orci leo, rutrum malesuada, congue vel, fringilla vitae, lorem. Pellentesque ligula.</p>",
           "Disponível também em formato ebook",
           "https://s3.novatec.com.br/capas/9788575225905.jpg",
           "978-85-7522-590-5",
           "544",
           [
            "autores/niederauer.php",
            null
           ],
           "livros/php-para-quem-conhece-php-5ed/",
           99,
           "PHP para quem conhece PHP - 5ª Edição"
          ],
          [
           "2017",
           [
            "Alan A. Donovan",
            "Brian W. Kernighan"
           ],
           "Programação",
           "<p>Lorem ipsum dolor sit amet, consectetuer adipiscing elit. Morbi eleifend, purus quis laoreet faucibus, ante augue malesuada mi, id rhoncus augue lorem eget elit. Ut sollicitudin sodales purus. Phasellus libero felis, blandit nec, commodo ut, imperdiet ut, nibh. Suspendisse potenti. Donec ullamcorper cursus dolor. Duis vitae ipsum. Maecenas dapibus hendrerit diam. Morbi varius, massa id pretium accumsan, nunc lorem congue libero, ut euismod metus libero id nulla. Duis posuere odio sed velit vulputate venenatis. Suspendisse et dui ac metus auctor fringilla. Curabitur interdum augue a pede.</p><p>Curabitur hendrerit erat ut augue. Cras gravida. Mauris consequat aliquam leo. Aenean non tortor id metus aliquet consectetuer. Quisque sodales lectus ac orci. Donec eleifend fringilla mi. Vivamus vel massa. Aenean interdum pellentesque sem. Nulla pellentesque felis et tortor. Duis cursus, dui non dictum tincidunt, wisi ipsum mollis wisi, nec ornare velit ipsum eget enim. In sed felis. Phasellus condimentum sodales nulla. Etiam orci leo, rutrum malesuada, congue vel, fringilla vitae, lorem. Pellentesque ligula.</p>",
           "",
           "https://s3.novatec.com.br/capas/9788575225462.jpg",
           "978-85-7522-546-2",
           "480",
           [
            "autores/alan-donovan.php",
            "autores/brian-kernighan.php"
           ],
           "livros/linguagem-de-programacao-go/",
           98,
           "A Linguagem de Programação Go"
          ]
         ],
         [
          "2017",
          [
           "Juliano Niederauer",
           null
          ],
          "Programação",
          "<p>Cras gravida. Mauris consequat aliquam leo. Aenean non tortor id metus aliquet consectetuer. Quisque sodales lectus ac orci. Donec eleifend fringilla mi. Vivamus vel massa. Aenean interdum pellentesque sem. Nulla pellentesque felis et tortor. Duis cursus, dui non dictum tincidunt, wisi ipsum mollis wisi, nec ornare velit ipsum eget enim. In sed felis. Phasellus condimentum sodales nulla. Etiam orci leo, rutrum malesuada, congue vel, fringilla vitae, lorem. Pellentesque ligula.</p>",
          "Disponível também em formato ebook",
          "https://s3.novatec.com.br/capas/9788575225905.jpg",
          "978-85-7522-590-5",
          "544",
          [
           "autores/niederauer.php",
           null
          ],
          "livros/php-para-quem-conhece-php-5ed/",
          99,
          "PHP para quem conhece PHP - 5ª Edição"
         ]
        ],
        [
         [
          [
           "2018",
           [
            "José Augusto N. G. Manzano",
            null
           ],
           "Programação",
           "<p>Lorem ipsum dolor sit amet, consectetuer adipiscing elit. Morbi eleifend, purus quis laoreet faucibus, ante augue malesuada mi, id rhoncus augue lorem eget elit. Ut sollicitudin sodales purus.</p>",
           "Disponível também em formato ebook",
           "https://s3.novatec.com.br/capas/9788575226834.jpg",
           "978-85-7522-683-4",
           "312",
           [
            "autores/jose-manzano.php",
            null
           ],
           null,
           69,
           "Primeiros passos com a linguagem Rust"
          ],
          [
           "2018",
           [
            "Igor Zhirkov",
            null
           ],
           "Hardware &amp; Robótica",
           "<p>Phasellus libero felis, blandit nec, commodo ut, imperdiet ut, nibh. Suspendisse potenti. Donec ullamcorper cursus dolor. Duis vitae ipsum. Maecenas dapibus hendrerit diam. Morbi varius, massa id pretium accumsan, nunc lorem congue libero, ut euismod metus libero id nulla.</p>",
           "Disponível também em formato ebook",
           "https://s3.novatec.com.br/capas/9788575226674.jpg",
           "978-85-7522-667-4",
           "576",
           [
            "autores/igor-zhirkov.php",
            null
           ],
           null,
           120,
           "Programação em Baixo Nível"
          ],
          [
           "2018",
           [
            "José Augusto N. G. Manzano",
            null
           ],
           "Programação",
           "<p>Duis posuere odio sed velit vulputate venenatis. Suspendisse et dui ac metus auctor fringilla. Curabitur interdum augue a pede.</p>>",
           "Disponível também em formato ebook",
           "https://s3.novatec.com.br/capas/9788575226681.jpg",
           "978-85-7522-668-1",
           "176",
           [
            "autores/jose-manzano.php",
            null
           ],
           "livros/introducao-a-linguagem-lua",
           52,
           "Introdução à linguagem Lua"
          ],
          [
           "2018",
           [
            "Edécio Fernando Iepsen",
            null
           ],
           "Programação",
           "<p>Duis cursus, dui non dictum tincidunt, wisi ipsum mollis wisi, nec ornare velit ipsum eget enim. In sed felis. Phasellus condimentum sodales nulla. Etiam orci leo, rutrum malesuada, congue vel, fringilla vitae, lorem. Pellentesque ligula.</p>",
           "Disponível também em formato ebook",
           "https://s3.novatec.com.br/capas/9788575226568.jpg",
           "978-85-7522-656-8",
           "320",
           [
            "autores/edecio-iepsen.php",
            null
           ],
           null,
           69,
           "Lógica de Programação e Algoritmos com JavaScript"
          ],
          [
           "2017",
           [
            "Juliano Niederauer",
            null
           ],
           "Programação",
           "<p>Cras gravida. Mauris consequat aliquam leo. Aenean non tortor id metus aliquet consectetuer. Quisque sodales lectus ac orci. Donec eleifend fringilla mi. Vivamus vel massa. Aenean interdum pellentesque sem. Nulla pellentesque felis et tortor. Duis cursus, dui non dictum tincidunt, wisi ipsum mollis wisi, nec ornare velit ipsum eget enim. In sed felis. Phasellus condimentum sodales nulla. Etiam orci leo, rutrum malesuada, congue vel, fringilla vitae, lorem. Pellentesque ligula.</p>",
           "Disponível também em formato ebook",
           "https://s3.novatec.com.br/capas/9788575225905.jpg",
           "978-85-7522-590-5",
           "544",
           [
            "autores/niederauer.php",
            null
           ],
           "livros/php-para-quem-conhece-php-5ed/",
           99,
           "PHP para quem conhece PHP - 5ª Edição"
          ],
          [
           "2017",
           [
            "Alan A. Donovan",
            "Brian W. Kernighan"
           ],
           "Programação",
           "<p>Lorem ipsum dolor sit amet, consectetuer adipiscing elit. Morbi eleifend, purus quis laoreet faucibus, ante augue malesuada mi, id rhoncus augue lorem eget elit. Ut sollicitudin sodales purus. Phasellus libero felis, blandit nec, commodo ut, imperdiet ut, nibh. Suspendisse potenti. Donec ullamcorper cursus dolor. Duis vitae ipsum. Maecenas dapibus hendrerit diam. Morbi varius, massa id pretium accumsan, nunc lorem congue libero, ut euismod metus libero id nulla. Duis posuere odio sed velit vulputate venenatis. Suspendisse et dui ac metus auctor fringilla. Curabitur interdum augue a pede.</p><p>Curabitur hendrerit erat ut augue. Cras gravida. Mauris consequat aliquam leo. Aenean non tortor id metus aliquet consectetuer. Quisque sodales lectus ac orci. Donec eleifend fringilla mi. Vivamus vel massa. Aenean interdum pellentesque sem. Nulla pellentesque felis et tortor. Duis cursus, dui non dictum tincidunt, wisi ipsum mollis wisi, nec ornare velit ipsum eget enim. In sed felis. Phasellus condimentum sodales nulla. Etiam orci leo, rutrum malesuada, congue vel, fringilla vitae, lorem. Pellentesque ligula.</p>",
           "",
           "https://s3.novatec.com.br/capas/9788575225462.jpg",
           "978-85-7522-546-2",
           "480",
           [
            "autores/alan-donovan.php",
            "autores/brian-kernighan.php"
           ],
           "livros/linguagem-de-programacao-go/",
           98,
           "A Linguagem de Programação Go"
          ]
         ],
         [
          "2017",
          [
           "Alan A. Donovan",
           "Brian W. Kernighan"
          ],
          "Programação",
          "<p>Lorem ipsum dolor sit amet, consectetuer adipiscing elit. Morbi eleifend, purus quis laoreet faucibus, ante augue malesuada mi, id rhoncus augue lorem eget elit. Ut sollicitudin sodales purus. Phasellus libero felis, blandit nec, commodo ut, imperdiet ut, nibh. Suspendisse potenti. Donec ullamcorper cursus dolor. Duis vitae ipsum. Maecenas dapibus hendrerit diam. Morbi varius, massa id pretium accumsan, nunc lorem congue libero, ut euismod metus libero id nulla. Duis posuere odio sed velit vulputate venenatis. Suspendisse et dui ac metus auctor fringilla. Curabitur interdum augue a pede.</p><p>Curabitur hendrerit erat ut augue. Cras gravida. Mauris consequat aliquam leo. Aenean non tortor id metus aliquet consectetuer. Quisque sodales lectus ac orci. Donec eleifend fringilla mi. Vivamus vel massa. Aenean interdum pellentesque sem. Nulla pellentesque felis et tortor. Duis cursus, dui non dictum tincidunt, wisi ipsum mollis wisi, nec ornare velit ipsum eget enim. In sed felis. Phasellus condimentum sodales nulla. Etiam orci leo, rutrum malesuada, congue vel, fringilla vitae, lorem. Pellentesque ligula.</p>",
          "",
          "https://s3.novatec.com.br/capas/9788575225462.jpg",
          "978-85-7522-546-2",
          "480",
          [
           "autores/alan-donovan.php",
           "autores/brian-kernighan.php"
          ],
          "livros/linguagem-de-programacao-go/",
          98,
          "A Linguagem de Programação Go"
         ]
        ]
       ],
       "datasetInfos": [],
       "dbfsResultPath": null,
       "isJsonSchema": true,
       "metadata": {},
       "overflow": false,
       "plotOptions": {
        "customPlotOptions": {},
        "displayType": "table",
        "pivotAggregation": null,
        "pivotColumns": null,
        "xColumns": null,
        "yColumns": null
       },
       "removedWidgets": [],
       "schema": [
        {
         "metadata": "{}",
         "name": "livros",
         "type": "{\"type\":\"array\",\"elementType\":{\"type\":\"struct\",\"fields\":[{\"name\":\"ano\",\"type\":\"string\",\"nullable\":true,\"metadata\":{}},{\"name\":\"autores\",\"type\":{\"type\":\"struct\",\"fields\":[{\"name\":\"autor1\",\"type\":\"string\",\"nullable\":true,\"metadata\":{}},{\"name\":\"autor2\",\"type\":\"string\",\"nullable\":true,\"metadata\":{}}]},\"nullable\":true,\"metadata\":{}},{\"name\":\"categoria\",\"type\":\"string\",\"nullable\":true,\"metadata\":{}},{\"name\":\"descricao\",\"type\":\"string\",\"nullable\":true,\"metadata\":{}},{\"name\":\"estoque\",\"type\":\"string\",\"nullable\":true,\"metadata\":{}},{\"name\":\"imgCapa\",\"type\":\"string\",\"nullable\":true,\"metadata\":{}},{\"name\":\"isbn\",\"type\":\"string\",\"nullable\":true,\"metadata\":{}},{\"name\":\"paginas\",\"type\":\"string\",\"nullable\":true,\"metadata\":{}},{\"name\":\"pgAutores\",\"type\":{\"type\":\"struct\",\"fields\":[{\"name\":\"pgAutor1\",\"type\":\"string\",\"nullable\":true,\"metadata\":{}},{\"name\":\"pgAutor2\",\"type\":\"string\",\"nullable\":true,\"metadata\":{}}]},\"nullable\":true,\"metadata\":{}},{\"name\":\"pgLivro\",\"type\":\"string\",\"nullable\":true,\"metadata\":{}},{\"name\":\"preco\",\"type\":\"long\",\"nullable\":true,\"metadata\":{}},{\"name\":\"titulo\",\"type\":\"string\",\"nullable\":true,\"metadata\":{}}]},\"containsNull\":true}"
        },
        {
         "metadata": "{}",
         "name": "livros_explode",
         "type": "{\"type\":\"struct\",\"fields\":[{\"name\":\"ano\",\"type\":\"string\",\"nullable\":true,\"metadata\":{}},{\"name\":\"autores\",\"type\":{\"type\":\"struct\",\"fields\":[{\"name\":\"autor1\",\"type\":\"string\",\"nullable\":true,\"metadata\":{}},{\"name\":\"autor2\",\"type\":\"string\",\"nullable\":true,\"metadata\":{}}]},\"nullable\":true,\"metadata\":{}},{\"name\":\"categoria\",\"type\":\"string\",\"nullable\":true,\"metadata\":{}},{\"name\":\"descricao\",\"type\":\"string\",\"nullable\":true,\"metadata\":{}},{\"name\":\"estoque\",\"type\":\"string\",\"nullable\":true,\"metadata\":{}},{\"name\":\"imgCapa\",\"type\":\"string\",\"nullable\":true,\"metadata\":{}},{\"name\":\"isbn\",\"type\":\"string\",\"nullable\":true,\"metadata\":{}},{\"name\":\"paginas\",\"type\":\"string\",\"nullable\":true,\"metadata\":{}},{\"name\":\"pgAutores\",\"type\":{\"type\":\"struct\",\"fields\":[{\"name\":\"pgAutor1\",\"type\":\"string\",\"nullable\":true,\"metadata\":{}},{\"name\":\"pgAutor2\",\"type\":\"string\",\"nullable\":true,\"metadata\":{}}]},\"nullable\":true,\"metadata\":{}},{\"name\":\"pgLivro\",\"type\":\"string\",\"nullable\":true,\"metadata\":{}},{\"name\":\"preco\",\"type\":\"long\",\"nullable\":true,\"metadata\":{}},{\"name\":\"titulo\",\"type\":\"string\",\"nullable\":true,\"metadata\":{}}]}"
        }
       ],
       "type": "table"
      }
     },
     "output_type": "display_data"
    }
   ],
   "source": [
    "display(df_flat)"
   ]
  },
  {
   "cell_type": "code",
   "execution_count": 0,
   "metadata": {
    "application/vnd.databricks.v1+cell": {
     "cellMetadata": {
      "byteLimit": 2048000,
      "rowLimit": 10000
     },
     "inputWidgets": {},
     "nuid": "fcce12f8-9f3a-4a7f-8630-8e675b04ff91",
     "showTitle": false,
     "title": ""
    }
   },
   "outputs": [],
   "source": [
    "df_flat = df.withColumn(\"livros_explode\", explode(\"livros\"))\\\n",
    "            .withColumn(\"autores\", col(\"livros_explode.autores.autor1\"))\\\n",
    "            .withColumn(\"autores\", col(\"livros_explode.autores.autor2\"))\\\n",
    "            .withColumn(\"categoria\", col(\"livros_explode.categoria\"))\\\n",
    "            .withColumn(\"paginas\", col(\"livros_explode.paginas\"))\\\n",
    "            .withColumn(\"preco\", col(\"livros_explode.preco\"))\n"
   ]
  },
  {
   "cell_type": "code",
   "execution_count": 0,
   "metadata": {
    "application/vnd.databricks.v1+cell": {
     "cellMetadata": {
      "byteLimit": 2048000,
      "rowLimit": 10000
     },
     "inputWidgets": {},
     "nuid": "d648ecad-6db0-4626-93cb-19550229d507",
     "showTitle": false,
     "title": ""
    }
   },
   "outputs": [
    {
     "output_type": "display_data",
     "data": {
      "text/html": [
       "<style scoped>\n",
       "  .table-result-container {\n",
       "    max-height: 300px;\n",
       "    overflow: auto;\n",
       "  }\n",
       "  table, th, td {\n",
       "    border: 1px solid black;\n",
       "    border-collapse: collapse;\n",
       "  }\n",
       "  th, td {\n",
       "    padding: 5px;\n",
       "  }\n",
       "  th {\n",
       "    text-align: left;\n",
       "  }\n",
       "</style><div class='table-result-container'><table class='table-result'><thead style='background-color: white'><tr><th>livros</th><th>livros_explode</th><th>autores</th><th>categoria</th><th>paginas</th><th>preco</th></tr></thead><tbody><tr><td>List(List(2018, List(José Augusto N. G. Manzano, null), Programação, <p>Lorem ipsum dolor sit amet, consectetuer adipiscing elit. Morbi eleifend, purus quis laoreet faucibus, ante augue malesuada mi, id rhoncus augue lorem eget elit. Ut sollicitudin sodales purus.</p>, Disponível também em formato ebook, https://s3.novatec.com.br/capas/9788575226834.jpg, 978-85-7522-683-4, 312, List(autores/jose-manzano.php, null), null, 69, Primeiros passos com a linguagem Rust), List(2018, List(Igor Zhirkov, null), Hardware &amp; Robótica, <p>Phasellus libero felis, blandit nec, commodo ut, imperdiet ut, nibh. Suspendisse potenti. Donec ullamcorper cursus dolor. Duis vitae ipsum. Maecenas dapibus hendrerit diam. Morbi varius, massa id pretium accumsan, nunc lorem congue libero, ut euismod metus libero id nulla.</p>, Disponível também em formato ebook, https://s3.novatec.com.br/capas/9788575226674.jpg, 978-85-7522-667-4, 576, List(autores/igor-zhirkov.php, null), null, 120, Programação em Baixo Nível), List(2018, List(José Augusto N. G. Manzano, null), Programação, <p>Duis posuere odio sed velit vulputate venenatis. Suspendisse et dui ac metus auctor fringilla. Curabitur interdum augue a pede.</p>>, Disponível também em formato ebook, https://s3.novatec.com.br/capas/9788575226681.jpg, 978-85-7522-668-1, 176, List(autores/jose-manzano.php, null), livros/introducao-a-linguagem-lua, 52, Introdução à linguagem Lua), List(2018, List(Edécio Fernando Iepsen, null), Programação, <p>Duis cursus, dui non dictum tincidunt, wisi ipsum mollis wisi, nec ornare velit ipsum eget enim. In sed felis. Phasellus condimentum sodales nulla. Etiam orci leo, rutrum malesuada, congue vel, fringilla vitae, lorem. Pellentesque ligula.</p>, Disponível também em formato ebook, https://s3.novatec.com.br/capas/9788575226568.jpg, 978-85-7522-656-8, 320, List(autores/edecio-iepsen.php, null), null, 69, Lógica de Programação e Algoritmos com JavaScript), List(2017, List(Juliano Niederauer, null), Programação, <p>Cras gravida. Mauris consequat aliquam leo. Aenean non tortor id metus aliquet consectetuer. Quisque sodales lectus ac orci. Donec eleifend fringilla mi. Vivamus vel massa. Aenean interdum pellentesque sem. Nulla pellentesque felis et tortor. Duis cursus, dui non dictum tincidunt, wisi ipsum mollis wisi, nec ornare velit ipsum eget enim. In sed felis. Phasellus condimentum sodales nulla. Etiam orci leo, rutrum malesuada, congue vel, fringilla vitae, lorem. Pellentesque ligula.</p>, Disponível também em formato ebook, https://s3.novatec.com.br/capas/9788575225905.jpg, 978-85-7522-590-5, 544, List(autores/niederauer.php, null), livros/php-para-quem-conhece-php-5ed/, 99, PHP para quem conhece PHP - 5ª Edição), List(2017, List(Alan A. Donovan, Brian W. Kernighan), Programação, <p>Lorem ipsum dolor sit amet, consectetuer adipiscing elit. Morbi eleifend, purus quis laoreet faucibus, ante augue malesuada mi, id rhoncus augue lorem eget elit. Ut sollicitudin sodales purus. Phasellus libero felis, blandit nec, commodo ut, imperdiet ut, nibh. Suspendisse potenti. Donec ullamcorper cursus dolor. Duis vitae ipsum. Maecenas dapibus hendrerit diam. Morbi varius, massa id pretium accumsan, nunc lorem congue libero, ut euismod metus libero id nulla. Duis posuere odio sed velit vulputate venenatis. Suspendisse et dui ac metus auctor fringilla. Curabitur interdum augue a pede.</p><p>Curabitur hendrerit erat ut augue. Cras gravida. Mauris consequat aliquam leo. Aenean non tortor id metus aliquet consectetuer. Quisque sodales lectus ac orci. Donec eleifend fringilla mi. Vivamus vel massa. Aenean interdum pellentesque sem. Nulla pellentesque felis et tortor. Duis cursus, dui non dictum tincidunt, wisi ipsum mollis wisi, nec ornare velit ipsum eget enim. In sed felis. Phasellus condimentum sodales nulla. Etiam orci leo, rutrum malesuada, congue vel, fringilla vitae, lorem. Pellentesque ligula.</p>, , https://s3.novatec.com.br/capas/9788575225462.jpg, 978-85-7522-546-2, 480, List(autores/alan-donovan.php, autores/brian-kernighan.php), livros/linguagem-de-programacao-go/, 98, A Linguagem de Programação Go))</td><td>List(2018, List(José Augusto N. G. Manzano, null), Programação, <p>Lorem ipsum dolor sit amet, consectetuer adipiscing elit. Morbi eleifend, purus quis laoreet faucibus, ante augue malesuada mi, id rhoncus augue lorem eget elit. Ut sollicitudin sodales purus.</p>, Disponível também em formato ebook, https://s3.novatec.com.br/capas/9788575226834.jpg, 978-85-7522-683-4, 312, List(autores/jose-manzano.php, null), null, 69, Primeiros passos com a linguagem Rust)</td><td>null</td><td>Programação</td><td>312</td><td>69</td></tr><tr><td>List(List(2018, List(José Augusto N. G. Manzano, null), Programação, <p>Lorem ipsum dolor sit amet, consectetuer adipiscing elit. Morbi eleifend, purus quis laoreet faucibus, ante augue malesuada mi, id rhoncus augue lorem eget elit. Ut sollicitudin sodales purus.</p>, Disponível também em formato ebook, https://s3.novatec.com.br/capas/9788575226834.jpg, 978-85-7522-683-4, 312, List(autores/jose-manzano.php, null), null, 69, Primeiros passos com a linguagem Rust), List(2018, List(Igor Zhirkov, null), Hardware &amp; Robótica, <p>Phasellus libero felis, blandit nec, commodo ut, imperdiet ut, nibh. Suspendisse potenti. Donec ullamcorper cursus dolor. Duis vitae ipsum. Maecenas dapibus hendrerit diam. Morbi varius, massa id pretium accumsan, nunc lorem congue libero, ut euismod metus libero id nulla.</p>, Disponível também em formato ebook, https://s3.novatec.com.br/capas/9788575226674.jpg, 978-85-7522-667-4, 576, List(autores/igor-zhirkov.php, null), null, 120, Programação em Baixo Nível), List(2018, List(José Augusto N. G. Manzano, null), Programação, <p>Duis posuere odio sed velit vulputate venenatis. Suspendisse et dui ac metus auctor fringilla. Curabitur interdum augue a pede.</p>>, Disponível também em formato ebook, https://s3.novatec.com.br/capas/9788575226681.jpg, 978-85-7522-668-1, 176, List(autores/jose-manzano.php, null), livros/introducao-a-linguagem-lua, 52, Introdução à linguagem Lua), List(2018, List(Edécio Fernando Iepsen, null), Programação, <p>Duis cursus, dui non dictum tincidunt, wisi ipsum mollis wisi, nec ornare velit ipsum eget enim. In sed felis. Phasellus condimentum sodales nulla. Etiam orci leo, rutrum malesuada, congue vel, fringilla vitae, lorem. Pellentesque ligula.</p>, Disponível também em formato ebook, https://s3.novatec.com.br/capas/9788575226568.jpg, 978-85-7522-656-8, 320, List(autores/edecio-iepsen.php, null), null, 69, Lógica de Programação e Algoritmos com JavaScript), List(2017, List(Juliano Niederauer, null), Programação, <p>Cras gravida. Mauris consequat aliquam leo. Aenean non tortor id metus aliquet consectetuer. Quisque sodales lectus ac orci. Donec eleifend fringilla mi. Vivamus vel massa. Aenean interdum pellentesque sem. Nulla pellentesque felis et tortor. Duis cursus, dui non dictum tincidunt, wisi ipsum mollis wisi, nec ornare velit ipsum eget enim. In sed felis. Phasellus condimentum sodales nulla. Etiam orci leo, rutrum malesuada, congue vel, fringilla vitae, lorem. Pellentesque ligula.</p>, Disponível também em formato ebook, https://s3.novatec.com.br/capas/9788575225905.jpg, 978-85-7522-590-5, 544, List(autores/niederauer.php, null), livros/php-para-quem-conhece-php-5ed/, 99, PHP para quem conhece PHP - 5ª Edição), List(2017, List(Alan A. Donovan, Brian W. Kernighan), Programação, <p>Lorem ipsum dolor sit amet, consectetuer adipiscing elit. Morbi eleifend, purus quis laoreet faucibus, ante augue malesuada mi, id rhoncus augue lorem eget elit. Ut sollicitudin sodales purus. Phasellus libero felis, blandit nec, commodo ut, imperdiet ut, nibh. Suspendisse potenti. Donec ullamcorper cursus dolor. Duis vitae ipsum. Maecenas dapibus hendrerit diam. Morbi varius, massa id pretium accumsan, nunc lorem congue libero, ut euismod metus libero id nulla. Duis posuere odio sed velit vulputate venenatis. Suspendisse et dui ac metus auctor fringilla. Curabitur interdum augue a pede.</p><p>Curabitur hendrerit erat ut augue. Cras gravida. Mauris consequat aliquam leo. Aenean non tortor id metus aliquet consectetuer. Quisque sodales lectus ac orci. Donec eleifend fringilla mi. Vivamus vel massa. Aenean interdum pellentesque sem. Nulla pellentesque felis et tortor. Duis cursus, dui non dictum tincidunt, wisi ipsum mollis wisi, nec ornare velit ipsum eget enim. In sed felis. Phasellus condimentum sodales nulla. Etiam orci leo, rutrum malesuada, congue vel, fringilla vitae, lorem. Pellentesque ligula.</p>, , https://s3.novatec.com.br/capas/9788575225462.jpg, 978-85-7522-546-2, 480, List(autores/alan-donovan.php, autores/brian-kernighan.php), livros/linguagem-de-programacao-go/, 98, A Linguagem de Programação Go))</td><td>List(2018, List(Igor Zhirkov, null), Hardware &amp; Robótica, <p>Phasellus libero felis, blandit nec, commodo ut, imperdiet ut, nibh. Suspendisse potenti. Donec ullamcorper cursus dolor. Duis vitae ipsum. Maecenas dapibus hendrerit diam. Morbi varius, massa id pretium accumsan, nunc lorem congue libero, ut euismod metus libero id nulla.</p>, Disponível também em formato ebook, https://s3.novatec.com.br/capas/9788575226674.jpg, 978-85-7522-667-4, 576, List(autores/igor-zhirkov.php, null), null, 120, Programação em Baixo Nível)</td><td>null</td><td>Hardware &amp; Robótica</td><td>576</td><td>120</td></tr><tr><td>List(List(2018, List(José Augusto N. G. Manzano, null), Programação, <p>Lorem ipsum dolor sit amet, consectetuer adipiscing elit. Morbi eleifend, purus quis laoreet faucibus, ante augue malesuada mi, id rhoncus augue lorem eget elit. Ut sollicitudin sodales purus.</p>, Disponível também em formato ebook, https://s3.novatec.com.br/capas/9788575226834.jpg, 978-85-7522-683-4, 312, List(autores/jose-manzano.php, null), null, 69, Primeiros passos com a linguagem Rust), List(2018, List(Igor Zhirkov, null), Hardware &amp; Robótica, <p>Phasellus libero felis, blandit nec, commodo ut, imperdiet ut, nibh. Suspendisse potenti. Donec ullamcorper cursus dolor. Duis vitae ipsum. Maecenas dapibus hendrerit diam. Morbi varius, massa id pretium accumsan, nunc lorem congue libero, ut euismod metus libero id nulla.</p>, Disponível também em formato ebook, https://s3.novatec.com.br/capas/9788575226674.jpg, 978-85-7522-667-4, 576, List(autores/igor-zhirkov.php, null), null, 120, Programação em Baixo Nível), List(2018, List(José Augusto N. G. Manzano, null), Programação, <p>Duis posuere odio sed velit vulputate venenatis. Suspendisse et dui ac metus auctor fringilla. Curabitur interdum augue a pede.</p>>, Disponível também em formato ebook, https://s3.novatec.com.br/capas/9788575226681.jpg, 978-85-7522-668-1, 176, List(autores/jose-manzano.php, null), livros/introducao-a-linguagem-lua, 52, Introdução à linguagem Lua), List(2018, List(Edécio Fernando Iepsen, null), Programação, <p>Duis cursus, dui non dictum tincidunt, wisi ipsum mollis wisi, nec ornare velit ipsum eget enim. In sed felis. Phasellus condimentum sodales nulla. Etiam orci leo, rutrum malesuada, congue vel, fringilla vitae, lorem. Pellentesque ligula.</p>, Disponível também em formato ebook, https://s3.novatec.com.br/capas/9788575226568.jpg, 978-85-7522-656-8, 320, List(autores/edecio-iepsen.php, null), null, 69, Lógica de Programação e Algoritmos com JavaScript), List(2017, List(Juliano Niederauer, null), Programação, <p>Cras gravida. Mauris consequat aliquam leo. Aenean non tortor id metus aliquet consectetuer. Quisque sodales lectus ac orci. Donec eleifend fringilla mi. Vivamus vel massa. Aenean interdum pellentesque sem. Nulla pellentesque felis et tortor. Duis cursus, dui non dictum tincidunt, wisi ipsum mollis wisi, nec ornare velit ipsum eget enim. In sed felis. Phasellus condimentum sodales nulla. Etiam orci leo, rutrum malesuada, congue vel, fringilla vitae, lorem. Pellentesque ligula.</p>, Disponível também em formato ebook, https://s3.novatec.com.br/capas/9788575225905.jpg, 978-85-7522-590-5, 544, List(autores/niederauer.php, null), livros/php-para-quem-conhece-php-5ed/, 99, PHP para quem conhece PHP - 5ª Edição), List(2017, List(Alan A. Donovan, Brian W. Kernighan), Programação, <p>Lorem ipsum dolor sit amet, consectetuer adipiscing elit. Morbi eleifend, purus quis laoreet faucibus, ante augue malesuada mi, id rhoncus augue lorem eget elit. Ut sollicitudin sodales purus. Phasellus libero felis, blandit nec, commodo ut, imperdiet ut, nibh. Suspendisse potenti. Donec ullamcorper cursus dolor. Duis vitae ipsum. Maecenas dapibus hendrerit diam. Morbi varius, massa id pretium accumsan, nunc lorem congue libero, ut euismod metus libero id nulla. Duis posuere odio sed velit vulputate venenatis. Suspendisse et dui ac metus auctor fringilla. Curabitur interdum augue a pede.</p><p>Curabitur hendrerit erat ut augue. Cras gravida. Mauris consequat aliquam leo. Aenean non tortor id metus aliquet consectetuer. Quisque sodales lectus ac orci. Donec eleifend fringilla mi. Vivamus vel massa. Aenean interdum pellentesque sem. Nulla pellentesque felis et tortor. Duis cursus, dui non dictum tincidunt, wisi ipsum mollis wisi, nec ornare velit ipsum eget enim. In sed felis. Phasellus condimentum sodales nulla. Etiam orci leo, rutrum malesuada, congue vel, fringilla vitae, lorem. Pellentesque ligula.</p>, , https://s3.novatec.com.br/capas/9788575225462.jpg, 978-85-7522-546-2, 480, List(autores/alan-donovan.php, autores/brian-kernighan.php), livros/linguagem-de-programacao-go/, 98, A Linguagem de Programação Go))</td><td>List(2018, List(José Augusto N. G. Manzano, null), Programação, <p>Duis posuere odio sed velit vulputate venenatis. Suspendisse et dui ac metus auctor fringilla. Curabitur interdum augue a pede.</p>>, Disponível também em formato ebook, https://s3.novatec.com.br/capas/9788575226681.jpg, 978-85-7522-668-1, 176, List(autores/jose-manzano.php, null), livros/introducao-a-linguagem-lua, 52, Introdução à linguagem Lua)</td><td>null</td><td>Programação</td><td>176</td><td>52</td></tr><tr><td>List(List(2018, List(José Augusto N. G. Manzano, null), Programação, <p>Lorem ipsum dolor sit amet, consectetuer adipiscing elit. Morbi eleifend, purus quis laoreet faucibus, ante augue malesuada mi, id rhoncus augue lorem eget elit. Ut sollicitudin sodales purus.</p>, Disponível também em formato ebook, https://s3.novatec.com.br/capas/9788575226834.jpg, 978-85-7522-683-4, 312, List(autores/jose-manzano.php, null), null, 69, Primeiros passos com a linguagem Rust), List(2018, List(Igor Zhirkov, null), Hardware &amp; Robótica, <p>Phasellus libero felis, blandit nec, commodo ut, imperdiet ut, nibh. Suspendisse potenti. Donec ullamcorper cursus dolor. Duis vitae ipsum. Maecenas dapibus hendrerit diam. Morbi varius, massa id pretium accumsan, nunc lorem congue libero, ut euismod metus libero id nulla.</p>, Disponível também em formato ebook, https://s3.novatec.com.br/capas/9788575226674.jpg, 978-85-7522-667-4, 576, List(autores/igor-zhirkov.php, null), null, 120, Programação em Baixo Nível), List(2018, List(José Augusto N. G. Manzano, null), Programação, <p>Duis posuere odio sed velit vulputate venenatis. Suspendisse et dui ac metus auctor fringilla. Curabitur interdum augue a pede.</p>>, Disponível também em formato ebook, https://s3.novatec.com.br/capas/9788575226681.jpg, 978-85-7522-668-1, 176, List(autores/jose-manzano.php, null), livros/introducao-a-linguagem-lua, 52, Introdução à linguagem Lua), List(2018, List(Edécio Fernando Iepsen, null), Programação, <p>Duis cursus, dui non dictum tincidunt, wisi ipsum mollis wisi, nec ornare velit ipsum eget enim. In sed felis. Phasellus condimentum sodales nulla. Etiam orci leo, rutrum malesuada, congue vel, fringilla vitae, lorem. Pellentesque ligula.</p>, Disponível também em formato ebook, https://s3.novatec.com.br/capas/9788575226568.jpg, 978-85-7522-656-8, 320, List(autores/edecio-iepsen.php, null), null, 69, Lógica de Programação e Algoritmos com JavaScript), List(2017, List(Juliano Niederauer, null), Programação, <p>Cras gravida. Mauris consequat aliquam leo. Aenean non tortor id metus aliquet consectetuer. Quisque sodales lectus ac orci. Donec eleifend fringilla mi. Vivamus vel massa. Aenean interdum pellentesque sem. Nulla pellentesque felis et tortor. Duis cursus, dui non dictum tincidunt, wisi ipsum mollis wisi, nec ornare velit ipsum eget enim. In sed felis. Phasellus condimentum sodales nulla. Etiam orci leo, rutrum malesuada, congue vel, fringilla vitae, lorem. Pellentesque ligula.</p>, Disponível também em formato ebook, https://s3.novatec.com.br/capas/9788575225905.jpg, 978-85-7522-590-5, 544, List(autores/niederauer.php, null), livros/php-para-quem-conhece-php-5ed/, 99, PHP para quem conhece PHP - 5ª Edição), List(2017, List(Alan A. Donovan, Brian W. Kernighan), Programação, <p>Lorem ipsum dolor sit amet, consectetuer adipiscing elit. Morbi eleifend, purus quis laoreet faucibus, ante augue malesuada mi, id rhoncus augue lorem eget elit. Ut sollicitudin sodales purus. Phasellus libero felis, blandit nec, commodo ut, imperdiet ut, nibh. Suspendisse potenti. Donec ullamcorper cursus dolor. Duis vitae ipsum. Maecenas dapibus hendrerit diam. Morbi varius, massa id pretium accumsan, nunc lorem congue libero, ut euismod metus libero id nulla. Duis posuere odio sed velit vulputate venenatis. Suspendisse et dui ac metus auctor fringilla. Curabitur interdum augue a pede.</p><p>Curabitur hendrerit erat ut augue. Cras gravida. Mauris consequat aliquam leo. Aenean non tortor id metus aliquet consectetuer. Quisque sodales lectus ac orci. Donec eleifend fringilla mi. Vivamus vel massa. Aenean interdum pellentesque sem. Nulla pellentesque felis et tortor. Duis cursus, dui non dictum tincidunt, wisi ipsum mollis wisi, nec ornare velit ipsum eget enim. In sed felis. Phasellus condimentum sodales nulla. Etiam orci leo, rutrum malesuada, congue vel, fringilla vitae, lorem. Pellentesque ligula.</p>, , https://s3.novatec.com.br/capas/9788575225462.jpg, 978-85-7522-546-2, 480, List(autores/alan-donovan.php, autores/brian-kernighan.php), livros/linguagem-de-programacao-go/, 98, A Linguagem de Programação Go))</td><td>List(2018, List(Edécio Fernando Iepsen, null), Programação, <p>Duis cursus, dui non dictum tincidunt, wisi ipsum mollis wisi, nec ornare velit ipsum eget enim. In sed felis. Phasellus condimentum sodales nulla. Etiam orci leo, rutrum malesuada, congue vel, fringilla vitae, lorem. Pellentesque ligula.</p>, Disponível também em formato ebook, https://s3.novatec.com.br/capas/9788575226568.jpg, 978-85-7522-656-8, 320, List(autores/edecio-iepsen.php, null), null, 69, Lógica de Programação e Algoritmos com JavaScript)</td><td>null</td><td>Programação</td><td>320</td><td>69</td></tr><tr><td>List(List(2018, List(José Augusto N. G. Manzano, null), Programação, <p>Lorem ipsum dolor sit amet, consectetuer adipiscing elit. Morbi eleifend, purus quis laoreet faucibus, ante augue malesuada mi, id rhoncus augue lorem eget elit. Ut sollicitudin sodales purus.</p>, Disponível também em formato ebook, https://s3.novatec.com.br/capas/9788575226834.jpg, 978-85-7522-683-4, 312, List(autores/jose-manzano.php, null), null, 69, Primeiros passos com a linguagem Rust), List(2018, List(Igor Zhirkov, null), Hardware &amp; Robótica, <p>Phasellus libero felis, blandit nec, commodo ut, imperdiet ut, nibh. Suspendisse potenti. Donec ullamcorper cursus dolor. Duis vitae ipsum. Maecenas dapibus hendrerit diam. Morbi varius, massa id pretium accumsan, nunc lorem congue libero, ut euismod metus libero id nulla.</p>, Disponível também em formato ebook, https://s3.novatec.com.br/capas/9788575226674.jpg, 978-85-7522-667-4, 576, List(autores/igor-zhirkov.php, null), null, 120, Programação em Baixo Nível), List(2018, List(José Augusto N. G. Manzano, null), Programação, <p>Duis posuere odio sed velit vulputate venenatis. Suspendisse et dui ac metus auctor fringilla. Curabitur interdum augue a pede.</p>>, Disponível também em formato ebook, https://s3.novatec.com.br/capas/9788575226681.jpg, 978-85-7522-668-1, 176, List(autores/jose-manzano.php, null), livros/introducao-a-linguagem-lua, 52, Introdução à linguagem Lua), List(2018, List(Edécio Fernando Iepsen, null), Programação, <p>Duis cursus, dui non dictum tincidunt, wisi ipsum mollis wisi, nec ornare velit ipsum eget enim. In sed felis. Phasellus condimentum sodales nulla. Etiam orci leo, rutrum malesuada, congue vel, fringilla vitae, lorem. Pellentesque ligula.</p>, Disponível também em formato ebook, https://s3.novatec.com.br/capas/9788575226568.jpg, 978-85-7522-656-8, 320, List(autores/edecio-iepsen.php, null), null, 69, Lógica de Programação e Algoritmos com JavaScript), List(2017, List(Juliano Niederauer, null), Programação, <p>Cras gravida. Mauris consequat aliquam leo. Aenean non tortor id metus aliquet consectetuer. Quisque sodales lectus ac orci. Donec eleifend fringilla mi. Vivamus vel massa. Aenean interdum pellentesque sem. Nulla pellentesque felis et tortor. Duis cursus, dui non dictum tincidunt, wisi ipsum mollis wisi, nec ornare velit ipsum eget enim. In sed felis. Phasellus condimentum sodales nulla. Etiam orci leo, rutrum malesuada, congue vel, fringilla vitae, lorem. Pellentesque ligula.</p>, Disponível também em formato ebook, https://s3.novatec.com.br/capas/9788575225905.jpg, 978-85-7522-590-5, 544, List(autores/niederauer.php, null), livros/php-para-quem-conhece-php-5ed/, 99, PHP para quem conhece PHP - 5ª Edição), List(2017, List(Alan A. Donovan, Brian W. Kernighan), Programação, <p>Lorem ipsum dolor sit amet, consectetuer adipiscing elit. Morbi eleifend, purus quis laoreet faucibus, ante augue malesuada mi, id rhoncus augue lorem eget elit. Ut sollicitudin sodales purus. Phasellus libero felis, blandit nec, commodo ut, imperdiet ut, nibh. Suspendisse potenti. Donec ullamcorper cursus dolor. Duis vitae ipsum. Maecenas dapibus hendrerit diam. Morbi varius, massa id pretium accumsan, nunc lorem congue libero, ut euismod metus libero id nulla. Duis posuere odio sed velit vulputate venenatis. Suspendisse et dui ac metus auctor fringilla. Curabitur interdum augue a pede.</p><p>Curabitur hendrerit erat ut augue. Cras gravida. Mauris consequat aliquam leo. Aenean non tortor id metus aliquet consectetuer. Quisque sodales lectus ac orci. Donec eleifend fringilla mi. Vivamus vel massa. Aenean interdum pellentesque sem. Nulla pellentesque felis et tortor. Duis cursus, dui non dictum tincidunt, wisi ipsum mollis wisi, nec ornare velit ipsum eget enim. In sed felis. Phasellus condimentum sodales nulla. Etiam orci leo, rutrum malesuada, congue vel, fringilla vitae, lorem. Pellentesque ligula.</p>, , https://s3.novatec.com.br/capas/9788575225462.jpg, 978-85-7522-546-2, 480, List(autores/alan-donovan.php, autores/brian-kernighan.php), livros/linguagem-de-programacao-go/, 98, A Linguagem de Programação Go))</td><td>List(2017, List(Juliano Niederauer, null), Programação, <p>Cras gravida. Mauris consequat aliquam leo. Aenean non tortor id metus aliquet consectetuer. Quisque sodales lectus ac orci. Donec eleifend fringilla mi. Vivamus vel massa. Aenean interdum pellentesque sem. Nulla pellentesque felis et tortor. Duis cursus, dui non dictum tincidunt, wisi ipsum mollis wisi, nec ornare velit ipsum eget enim. In sed felis. Phasellus condimentum sodales nulla. Etiam orci leo, rutrum malesuada, congue vel, fringilla vitae, lorem. Pellentesque ligula.</p>, Disponível também em formato ebook, https://s3.novatec.com.br/capas/9788575225905.jpg, 978-85-7522-590-5, 544, List(autores/niederauer.php, null), livros/php-para-quem-conhece-php-5ed/, 99, PHP para quem conhece PHP - 5ª Edição)</td><td>null</td><td>Programação</td><td>544</td><td>99</td></tr><tr><td>List(List(2018, List(José Augusto N. G. Manzano, null), Programação, <p>Lorem ipsum dolor sit amet, consectetuer adipiscing elit. Morbi eleifend, purus quis laoreet faucibus, ante augue malesuada mi, id rhoncus augue lorem eget elit. Ut sollicitudin sodales purus.</p>, Disponível também em formato ebook, https://s3.novatec.com.br/capas/9788575226834.jpg, 978-85-7522-683-4, 312, List(autores/jose-manzano.php, null), null, 69, Primeiros passos com a linguagem Rust), List(2018, List(Igor Zhirkov, null), Hardware &amp; Robótica, <p>Phasellus libero felis, blandit nec, commodo ut, imperdiet ut, nibh. Suspendisse potenti. Donec ullamcorper cursus dolor. Duis vitae ipsum. Maecenas dapibus hendrerit diam. Morbi varius, massa id pretium accumsan, nunc lorem congue libero, ut euismod metus libero id nulla.</p>, Disponível também em formato ebook, https://s3.novatec.com.br/capas/9788575226674.jpg, 978-85-7522-667-4, 576, List(autores/igor-zhirkov.php, null), null, 120, Programação em Baixo Nível), List(2018, List(José Augusto N. G. Manzano, null), Programação, <p>Duis posuere odio sed velit vulputate venenatis. Suspendisse et dui ac metus auctor fringilla. Curabitur interdum augue a pede.</p>>, Disponível também em formato ebook, https://s3.novatec.com.br/capas/9788575226681.jpg, 978-85-7522-668-1, 176, List(autores/jose-manzano.php, null), livros/introducao-a-linguagem-lua, 52, Introdução à linguagem Lua), List(2018, List(Edécio Fernando Iepsen, null), Programação, <p>Duis cursus, dui non dictum tincidunt, wisi ipsum mollis wisi, nec ornare velit ipsum eget enim. In sed felis. Phasellus condimentum sodales nulla. Etiam orci leo, rutrum malesuada, congue vel, fringilla vitae, lorem. Pellentesque ligula.</p>, Disponível também em formato ebook, https://s3.novatec.com.br/capas/9788575226568.jpg, 978-85-7522-656-8, 320, List(autores/edecio-iepsen.php, null), null, 69, Lógica de Programação e Algoritmos com JavaScript), List(2017, List(Juliano Niederauer, null), Programação, <p>Cras gravida. Mauris consequat aliquam leo. Aenean non tortor id metus aliquet consectetuer. Quisque sodales lectus ac orci. Donec eleifend fringilla mi. Vivamus vel massa. Aenean interdum pellentesque sem. Nulla pellentesque felis et tortor. Duis cursus, dui non dictum tincidunt, wisi ipsum mollis wisi, nec ornare velit ipsum eget enim. In sed felis. Phasellus condimentum sodales nulla. Etiam orci leo, rutrum malesuada, congue vel, fringilla vitae, lorem. Pellentesque ligula.</p>, Disponível também em formato ebook, https://s3.novatec.com.br/capas/9788575225905.jpg, 978-85-7522-590-5, 544, List(autores/niederauer.php, null), livros/php-para-quem-conhece-php-5ed/, 99, PHP para quem conhece PHP - 5ª Edição), List(2017, List(Alan A. Donovan, Brian W. Kernighan), Programação, <p>Lorem ipsum dolor sit amet, consectetuer adipiscing elit. Morbi eleifend, purus quis laoreet faucibus, ante augue malesuada mi, id rhoncus augue lorem eget elit. Ut sollicitudin sodales purus. Phasellus libero felis, blandit nec, commodo ut, imperdiet ut, nibh. Suspendisse potenti. Donec ullamcorper cursus dolor. Duis vitae ipsum. Maecenas dapibus hendrerit diam. Morbi varius, massa id pretium accumsan, nunc lorem congue libero, ut euismod metus libero id nulla. Duis posuere odio sed velit vulputate venenatis. Suspendisse et dui ac metus auctor fringilla. Curabitur interdum augue a pede.</p><p>Curabitur hendrerit erat ut augue. Cras gravida. Mauris consequat aliquam leo. Aenean non tortor id metus aliquet consectetuer. Quisque sodales lectus ac orci. Donec eleifend fringilla mi. Vivamus vel massa. Aenean interdum pellentesque sem. Nulla pellentesque felis et tortor. Duis cursus, dui non dictum tincidunt, wisi ipsum mollis wisi, nec ornare velit ipsum eget enim. In sed felis. Phasellus condimentum sodales nulla. Etiam orci leo, rutrum malesuada, congue vel, fringilla vitae, lorem. Pellentesque ligula.</p>, , https://s3.novatec.com.br/capas/9788575225462.jpg, 978-85-7522-546-2, 480, List(autores/alan-donovan.php, autores/brian-kernighan.php), livros/linguagem-de-programacao-go/, 98, A Linguagem de Programação Go))</td><td>List(2017, List(Alan A. Donovan, Brian W. Kernighan), Programação, <p>Lorem ipsum dolor sit amet, consectetuer adipiscing elit. Morbi eleifend, purus quis laoreet faucibus, ante augue malesuada mi, id rhoncus augue lorem eget elit. Ut sollicitudin sodales purus. Phasellus libero felis, blandit nec, commodo ut, imperdiet ut, nibh. Suspendisse potenti. Donec ullamcorper cursus dolor. Duis vitae ipsum. Maecenas dapibus hendrerit diam. Morbi varius, massa id pretium accumsan, nunc lorem congue libero, ut euismod metus libero id nulla. Duis posuere odio sed velit vulputate venenatis. Suspendisse et dui ac metus auctor fringilla. Curabitur interdum augue a pede.</p><p>Curabitur hendrerit erat ut augue. Cras gravida. Mauris consequat aliquam leo. Aenean non tortor id metus aliquet consectetuer. Quisque sodales lectus ac orci. Donec eleifend fringilla mi. Vivamus vel massa. Aenean interdum pellentesque sem. Nulla pellentesque felis et tortor. Duis cursus, dui non dictum tincidunt, wisi ipsum mollis wisi, nec ornare velit ipsum eget enim. In sed felis. Phasellus condimentum sodales nulla. Etiam orci leo, rutrum malesuada, congue vel, fringilla vitae, lorem. Pellentesque ligula.</p>, , https://s3.novatec.com.br/capas/9788575225462.jpg, 978-85-7522-546-2, 480, List(autores/alan-donovan.php, autores/brian-kernighan.php), livros/linguagem-de-programacao-go/, 98, A Linguagem de Programação Go)</td><td>Brian W. Kernighan</td><td>Programação</td><td>480</td><td>98</td></tr></tbody></table></div>"
      ]
     },
     "metadata": {
      "application/vnd.databricks.v1+output": {
       "addedWidgets": {},
       "aggData": [],
       "aggError": "",
       "aggOverflow": false,
       "aggSchema": [],
       "aggSeriesLimitReached": false,
       "aggType": "",
       "arguments": {},
       "columnCustomDisplayInfos": {},
       "data": [
        [
         [
          [
           "2018",
           [
            "José Augusto N. G. Manzano",
            null
           ],
           "Programação",
           "<p>Lorem ipsum dolor sit amet, consectetuer adipiscing elit. Morbi eleifend, purus quis laoreet faucibus, ante augue malesuada mi, id rhoncus augue lorem eget elit. Ut sollicitudin sodales purus.</p>",
           "Disponível também em formato ebook",
           "https://s3.novatec.com.br/capas/9788575226834.jpg",
           "978-85-7522-683-4",
           "312",
           [
            "autores/jose-manzano.php",
            null
           ],
           null,
           69,
           "Primeiros passos com a linguagem Rust"
          ],
          [
           "2018",
           [
            "Igor Zhirkov",
            null
           ],
           "Hardware &amp; Robótica",
           "<p>Phasellus libero felis, blandit nec, commodo ut, imperdiet ut, nibh. Suspendisse potenti. Donec ullamcorper cursus dolor. Duis vitae ipsum. Maecenas dapibus hendrerit diam. Morbi varius, massa id pretium accumsan, nunc lorem congue libero, ut euismod metus libero id nulla.</p>",
           "Disponível também em formato ebook",
           "https://s3.novatec.com.br/capas/9788575226674.jpg",
           "978-85-7522-667-4",
           "576",
           [
            "autores/igor-zhirkov.php",
            null
           ],
           null,
           120,
           "Programação em Baixo Nível"
          ],
          [
           "2018",
           [
            "José Augusto N. G. Manzano",
            null
           ],
           "Programação",
           "<p>Duis posuere odio sed velit vulputate venenatis. Suspendisse et dui ac metus auctor fringilla. Curabitur interdum augue a pede.</p>>",
           "Disponível também em formato ebook",
           "https://s3.novatec.com.br/capas/9788575226681.jpg",
           "978-85-7522-668-1",
           "176",
           [
            "autores/jose-manzano.php",
            null
           ],
           "livros/introducao-a-linguagem-lua",
           52,
           "Introdução à linguagem Lua"
          ],
          [
           "2018",
           [
            "Edécio Fernando Iepsen",
            null
           ],
           "Programação",
           "<p>Duis cursus, dui non dictum tincidunt, wisi ipsum mollis wisi, nec ornare velit ipsum eget enim. In sed felis. Phasellus condimentum sodales nulla. Etiam orci leo, rutrum malesuada, congue vel, fringilla vitae, lorem. Pellentesque ligula.</p>",
           "Disponível também em formato ebook",
           "https://s3.novatec.com.br/capas/9788575226568.jpg",
           "978-85-7522-656-8",
           "320",
           [
            "autores/edecio-iepsen.php",
            null
           ],
           null,
           69,
           "Lógica de Programação e Algoritmos com JavaScript"
          ],
          [
           "2017",
           [
            "Juliano Niederauer",
            null
           ],
           "Programação",
           "<p>Cras gravida. Mauris consequat aliquam leo. Aenean non tortor id metus aliquet consectetuer. Quisque sodales lectus ac orci. Donec eleifend fringilla mi. Vivamus vel massa. Aenean interdum pellentesque sem. Nulla pellentesque felis et tortor. Duis cursus, dui non dictum tincidunt, wisi ipsum mollis wisi, nec ornare velit ipsum eget enim. In sed felis. Phasellus condimentum sodales nulla. Etiam orci leo, rutrum malesuada, congue vel, fringilla vitae, lorem. Pellentesque ligula.</p>",
           "Disponível também em formato ebook",
           "https://s3.novatec.com.br/capas/9788575225905.jpg",
           "978-85-7522-590-5",
           "544",
           [
            "autores/niederauer.php",
            null
           ],
           "livros/php-para-quem-conhece-php-5ed/",
           99,
           "PHP para quem conhece PHP - 5ª Edição"
          ],
          [
           "2017",
           [
            "Alan A. Donovan",
            "Brian W. Kernighan"
           ],
           "Programação",
           "<p>Lorem ipsum dolor sit amet, consectetuer adipiscing elit. Morbi eleifend, purus quis laoreet faucibus, ante augue malesuada mi, id rhoncus augue lorem eget elit. Ut sollicitudin sodales purus. Phasellus libero felis, blandit nec, commodo ut, imperdiet ut, nibh. Suspendisse potenti. Donec ullamcorper cursus dolor. Duis vitae ipsum. Maecenas dapibus hendrerit diam. Morbi varius, massa id pretium accumsan, nunc lorem congue libero, ut euismod metus libero id nulla. Duis posuere odio sed velit vulputate venenatis. Suspendisse et dui ac metus auctor fringilla. Curabitur interdum augue a pede.</p><p>Curabitur hendrerit erat ut augue. Cras gravida. Mauris consequat aliquam leo. Aenean non tortor id metus aliquet consectetuer. Quisque sodales lectus ac orci. Donec eleifend fringilla mi. Vivamus vel massa. Aenean interdum pellentesque sem. Nulla pellentesque felis et tortor. Duis cursus, dui non dictum tincidunt, wisi ipsum mollis wisi, nec ornare velit ipsum eget enim. In sed felis. Phasellus condimentum sodales nulla. Etiam orci leo, rutrum malesuada, congue vel, fringilla vitae, lorem. Pellentesque ligula.</p>",
           "",
           "https://s3.novatec.com.br/capas/9788575225462.jpg",
           "978-85-7522-546-2",
           "480",
           [
            "autores/alan-donovan.php",
            "autores/brian-kernighan.php"
           ],
           "livros/linguagem-de-programacao-go/",
           98,
           "A Linguagem de Programação Go"
          ]
         ],
         [
          "2018",
          [
           "José Augusto N. G. Manzano",
           null
          ],
          "Programação",
          "<p>Lorem ipsum dolor sit amet, consectetuer adipiscing elit. Morbi eleifend, purus quis laoreet faucibus, ante augue malesuada mi, id rhoncus augue lorem eget elit. Ut sollicitudin sodales purus.</p>",
          "Disponível também em formato ebook",
          "https://s3.novatec.com.br/capas/9788575226834.jpg",
          "978-85-7522-683-4",
          "312",
          [
           "autores/jose-manzano.php",
           null
          ],
          null,
          69,
          "Primeiros passos com a linguagem Rust"
         ],
         null,
         "Programação",
         "312",
         69
        ],
        [
         [
          [
           "2018",
           [
            "José Augusto N. G. Manzano",
            null
           ],
           "Programação",
           "<p>Lorem ipsum dolor sit amet, consectetuer adipiscing elit. Morbi eleifend, purus quis laoreet faucibus, ante augue malesuada mi, id rhoncus augue lorem eget elit. Ut sollicitudin sodales purus.</p>",
           "Disponível também em formato ebook",
           "https://s3.novatec.com.br/capas/9788575226834.jpg",
           "978-85-7522-683-4",
           "312",
           [
            "autores/jose-manzano.php",
            null
           ],
           null,
           69,
           "Primeiros passos com a linguagem Rust"
          ],
          [
           "2018",
           [
            "Igor Zhirkov",
            null
           ],
           "Hardware &amp; Robótica",
           "<p>Phasellus libero felis, blandit nec, commodo ut, imperdiet ut, nibh. Suspendisse potenti. Donec ullamcorper cursus dolor. Duis vitae ipsum. Maecenas dapibus hendrerit diam. Morbi varius, massa id pretium accumsan, nunc lorem congue libero, ut euismod metus libero id nulla.</p>",
           "Disponível também em formato ebook",
           "https://s3.novatec.com.br/capas/9788575226674.jpg",
           "978-85-7522-667-4",
           "576",
           [
            "autores/igor-zhirkov.php",
            null
           ],
           null,
           120,
           "Programação em Baixo Nível"
          ],
          [
           "2018",
           [
            "José Augusto N. G. Manzano",
            null
           ],
           "Programação",
           "<p>Duis posuere odio sed velit vulputate venenatis. Suspendisse et dui ac metus auctor fringilla. Curabitur interdum augue a pede.</p>>",
           "Disponível também em formato ebook",
           "https://s3.novatec.com.br/capas/9788575226681.jpg",
           "978-85-7522-668-1",
           "176",
           [
            "autores/jose-manzano.php",
            null
           ],
           "livros/introducao-a-linguagem-lua",
           52,
           "Introdução à linguagem Lua"
          ],
          [
           "2018",
           [
            "Edécio Fernando Iepsen",
            null
           ],
           "Programação",
           "<p>Duis cursus, dui non dictum tincidunt, wisi ipsum mollis wisi, nec ornare velit ipsum eget enim. In sed felis. Phasellus condimentum sodales nulla. Etiam orci leo, rutrum malesuada, congue vel, fringilla vitae, lorem. Pellentesque ligula.</p>",
           "Disponível também em formato ebook",
           "https://s3.novatec.com.br/capas/9788575226568.jpg",
           "978-85-7522-656-8",
           "320",
           [
            "autores/edecio-iepsen.php",
            null
           ],
           null,
           69,
           "Lógica de Programação e Algoritmos com JavaScript"
          ],
          [
           "2017",
           [
            "Juliano Niederauer",
            null
           ],
           "Programação",
           "<p>Cras gravida. Mauris consequat aliquam leo. Aenean non tortor id metus aliquet consectetuer. Quisque sodales lectus ac orci. Donec eleifend fringilla mi. Vivamus vel massa. Aenean interdum pellentesque sem. Nulla pellentesque felis et tortor. Duis cursus, dui non dictum tincidunt, wisi ipsum mollis wisi, nec ornare velit ipsum eget enim. In sed felis. Phasellus condimentum sodales nulla. Etiam orci leo, rutrum malesuada, congue vel, fringilla vitae, lorem. Pellentesque ligula.</p>",
           "Disponível também em formato ebook",
           "https://s3.novatec.com.br/capas/9788575225905.jpg",
           "978-85-7522-590-5",
           "544",
           [
            "autores/niederauer.php",
            null
           ],
           "livros/php-para-quem-conhece-php-5ed/",
           99,
           "PHP para quem conhece PHP - 5ª Edição"
          ],
          [
           "2017",
           [
            "Alan A. Donovan",
            "Brian W. Kernighan"
           ],
           "Programação",
           "<p>Lorem ipsum dolor sit amet, consectetuer adipiscing elit. Morbi eleifend, purus quis laoreet faucibus, ante augue malesuada mi, id rhoncus augue lorem eget elit. Ut sollicitudin sodales purus. Phasellus libero felis, blandit nec, commodo ut, imperdiet ut, nibh. Suspendisse potenti. Donec ullamcorper cursus dolor. Duis vitae ipsum. Maecenas dapibus hendrerit diam. Morbi varius, massa id pretium accumsan, nunc lorem congue libero, ut euismod metus libero id nulla. Duis posuere odio sed velit vulputate venenatis. Suspendisse et dui ac metus auctor fringilla. Curabitur interdum augue a pede.</p><p>Curabitur hendrerit erat ut augue. Cras gravida. Mauris consequat aliquam leo. Aenean non tortor id metus aliquet consectetuer. Quisque sodales lectus ac orci. Donec eleifend fringilla mi. Vivamus vel massa. Aenean interdum pellentesque sem. Nulla pellentesque felis et tortor. Duis cursus, dui non dictum tincidunt, wisi ipsum mollis wisi, nec ornare velit ipsum eget enim. In sed felis. Phasellus condimentum sodales nulla. Etiam orci leo, rutrum malesuada, congue vel, fringilla vitae, lorem. Pellentesque ligula.</p>",
           "",
           "https://s3.novatec.com.br/capas/9788575225462.jpg",
           "978-85-7522-546-2",
           "480",
           [
            "autores/alan-donovan.php",
            "autores/brian-kernighan.php"
           ],
           "livros/linguagem-de-programacao-go/",
           98,
           "A Linguagem de Programação Go"
          ]
         ],
         [
          "2018",
          [
           "Igor Zhirkov",
           null
          ],
          "Hardware &amp; Robótica",
          "<p>Phasellus libero felis, blandit nec, commodo ut, imperdiet ut, nibh. Suspendisse potenti. Donec ullamcorper cursus dolor. Duis vitae ipsum. Maecenas dapibus hendrerit diam. Morbi varius, massa id pretium accumsan, nunc lorem congue libero, ut euismod metus libero id nulla.</p>",
          "Disponível também em formato ebook",
          "https://s3.novatec.com.br/capas/9788575226674.jpg",
          "978-85-7522-667-4",
          "576",
          [
           "autores/igor-zhirkov.php",
           null
          ],
          null,
          120,
          "Programação em Baixo Nível"
         ],
         null,
         "Hardware &amp; Robótica",
         "576",
         120
        ],
        [
         [
          [
           "2018",
           [
            "José Augusto N. G. Manzano",
            null
           ],
           "Programação",
           "<p>Lorem ipsum dolor sit amet, consectetuer adipiscing elit. Morbi eleifend, purus quis laoreet faucibus, ante augue malesuada mi, id rhoncus augue lorem eget elit. Ut sollicitudin sodales purus.</p>",
           "Disponível também em formato ebook",
           "https://s3.novatec.com.br/capas/9788575226834.jpg",
           "978-85-7522-683-4",
           "312",
           [
            "autores/jose-manzano.php",
            null
           ],
           null,
           69,
           "Primeiros passos com a linguagem Rust"
          ],
          [
           "2018",
           [
            "Igor Zhirkov",
            null
           ],
           "Hardware &amp; Robótica",
           "<p>Phasellus libero felis, blandit nec, commodo ut, imperdiet ut, nibh. Suspendisse potenti. Donec ullamcorper cursus dolor. Duis vitae ipsum. Maecenas dapibus hendrerit diam. Morbi varius, massa id pretium accumsan, nunc lorem congue libero, ut euismod metus libero id nulla.</p>",
           "Disponível também em formato ebook",
           "https://s3.novatec.com.br/capas/9788575226674.jpg",
           "978-85-7522-667-4",
           "576",
           [
            "autores/igor-zhirkov.php",
            null
           ],
           null,
           120,
           "Programação em Baixo Nível"
          ],
          [
           "2018",
           [
            "José Augusto N. G. Manzano",
            null
           ],
           "Programação",
           "<p>Duis posuere odio sed velit vulputate venenatis. Suspendisse et dui ac metus auctor fringilla. Curabitur interdum augue a pede.</p>>",
           "Disponível também em formato ebook",
           "https://s3.novatec.com.br/capas/9788575226681.jpg",
           "978-85-7522-668-1",
           "176",
           [
            "autores/jose-manzano.php",
            null
           ],
           "livros/introducao-a-linguagem-lua",
           52,
           "Introdução à linguagem Lua"
          ],
          [
           "2018",
           [
            "Edécio Fernando Iepsen",
            null
           ],
           "Programação",
           "<p>Duis cursus, dui non dictum tincidunt, wisi ipsum mollis wisi, nec ornare velit ipsum eget enim. In sed felis. Phasellus condimentum sodales nulla. Etiam orci leo, rutrum malesuada, congue vel, fringilla vitae, lorem. Pellentesque ligula.</p>",
           "Disponível também em formato ebook",
           "https://s3.novatec.com.br/capas/9788575226568.jpg",
           "978-85-7522-656-8",
           "320",
           [
            "autores/edecio-iepsen.php",
            null
           ],
           null,
           69,
           "Lógica de Programação e Algoritmos com JavaScript"
          ],
          [
           "2017",
           [
            "Juliano Niederauer",
            null
           ],
           "Programação",
           "<p>Cras gravida. Mauris consequat aliquam leo. Aenean non tortor id metus aliquet consectetuer. Quisque sodales lectus ac orci. Donec eleifend fringilla mi. Vivamus vel massa. Aenean interdum pellentesque sem. Nulla pellentesque felis et tortor. Duis cursus, dui non dictum tincidunt, wisi ipsum mollis wisi, nec ornare velit ipsum eget enim. In sed felis. Phasellus condimentum sodales nulla. Etiam orci leo, rutrum malesuada, congue vel, fringilla vitae, lorem. Pellentesque ligula.</p>",
           "Disponível também em formato ebook",
           "https://s3.novatec.com.br/capas/9788575225905.jpg",
           "978-85-7522-590-5",
           "544",
           [
            "autores/niederauer.php",
            null
           ],
           "livros/php-para-quem-conhece-php-5ed/",
           99,
           "PHP para quem conhece PHP - 5ª Edição"
          ],
          [
           "2017",
           [
            "Alan A. Donovan",
            "Brian W. Kernighan"
           ],
           "Programação",
           "<p>Lorem ipsum dolor sit amet, consectetuer adipiscing elit. Morbi eleifend, purus quis laoreet faucibus, ante augue malesuada mi, id rhoncus augue lorem eget elit. Ut sollicitudin sodales purus. Phasellus libero felis, blandit nec, commodo ut, imperdiet ut, nibh. Suspendisse potenti. Donec ullamcorper cursus dolor. Duis vitae ipsum. Maecenas dapibus hendrerit diam. Morbi varius, massa id pretium accumsan, nunc lorem congue libero, ut euismod metus libero id nulla. Duis posuere odio sed velit vulputate venenatis. Suspendisse et dui ac metus auctor fringilla. Curabitur interdum augue a pede.</p><p>Curabitur hendrerit erat ut augue. Cras gravida. Mauris consequat aliquam leo. Aenean non tortor id metus aliquet consectetuer. Quisque sodales lectus ac orci. Donec eleifend fringilla mi. Vivamus vel massa. Aenean interdum pellentesque sem. Nulla pellentesque felis et tortor. Duis cursus, dui non dictum tincidunt, wisi ipsum mollis wisi, nec ornare velit ipsum eget enim. In sed felis. Phasellus condimentum sodales nulla. Etiam orci leo, rutrum malesuada, congue vel, fringilla vitae, lorem. Pellentesque ligula.</p>",
           "",
           "https://s3.novatec.com.br/capas/9788575225462.jpg",
           "978-85-7522-546-2",
           "480",
           [
            "autores/alan-donovan.php",
            "autores/brian-kernighan.php"
           ],
           "livros/linguagem-de-programacao-go/",
           98,
           "A Linguagem de Programação Go"
          ]
         ],
         [
          "2018",
          [
           "José Augusto N. G. Manzano",
           null
          ],
          "Programação",
          "<p>Duis posuere odio sed velit vulputate venenatis. Suspendisse et dui ac metus auctor fringilla. Curabitur interdum augue a pede.</p>>",
          "Disponível também em formato ebook",
          "https://s3.novatec.com.br/capas/9788575226681.jpg",
          "978-85-7522-668-1",
          "176",
          [
           "autores/jose-manzano.php",
           null
          ],
          "livros/introducao-a-linguagem-lua",
          52,
          "Introdução à linguagem Lua"
         ],
         null,
         "Programação",
         "176",
         52
        ],
        [
         [
          [
           "2018",
           [
            "José Augusto N. G. Manzano",
            null
           ],
           "Programação",
           "<p>Lorem ipsum dolor sit amet, consectetuer adipiscing elit. Morbi eleifend, purus quis laoreet faucibus, ante augue malesuada mi, id rhoncus augue lorem eget elit. Ut sollicitudin sodales purus.</p>",
           "Disponível também em formato ebook",
           "https://s3.novatec.com.br/capas/9788575226834.jpg",
           "978-85-7522-683-4",
           "312",
           [
            "autores/jose-manzano.php",
            null
           ],
           null,
           69,
           "Primeiros passos com a linguagem Rust"
          ],
          [
           "2018",
           [
            "Igor Zhirkov",
            null
           ],
           "Hardware &amp; Robótica",
           "<p>Phasellus libero felis, blandit nec, commodo ut, imperdiet ut, nibh. Suspendisse potenti. Donec ullamcorper cursus dolor. Duis vitae ipsum. Maecenas dapibus hendrerit diam. Morbi varius, massa id pretium accumsan, nunc lorem congue libero, ut euismod metus libero id nulla.</p>",
           "Disponível também em formato ebook",
           "https://s3.novatec.com.br/capas/9788575226674.jpg",
           "978-85-7522-667-4",
           "576",
           [
            "autores/igor-zhirkov.php",
            null
           ],
           null,
           120,
           "Programação em Baixo Nível"
          ],
          [
           "2018",
           [
            "José Augusto N. G. Manzano",
            null
           ],
           "Programação",
           "<p>Duis posuere odio sed velit vulputate venenatis. Suspendisse et dui ac metus auctor fringilla. Curabitur interdum augue a pede.</p>>",
           "Disponível também em formato ebook",
           "https://s3.novatec.com.br/capas/9788575226681.jpg",
           "978-85-7522-668-1",
           "176",
           [
            "autores/jose-manzano.php",
            null
           ],
           "livros/introducao-a-linguagem-lua",
           52,
           "Introdução à linguagem Lua"
          ],
          [
           "2018",
           [
            "Edécio Fernando Iepsen",
            null
           ],
           "Programação",
           "<p>Duis cursus, dui non dictum tincidunt, wisi ipsum mollis wisi, nec ornare velit ipsum eget enim. In sed felis. Phasellus condimentum sodales nulla. Etiam orci leo, rutrum malesuada, congue vel, fringilla vitae, lorem. Pellentesque ligula.</p>",
           "Disponível também em formato ebook",
           "https://s3.novatec.com.br/capas/9788575226568.jpg",
           "978-85-7522-656-8",
           "320",
           [
            "autores/edecio-iepsen.php",
            null
           ],
           null,
           69,
           "Lógica de Programação e Algoritmos com JavaScript"
          ],
          [
           "2017",
           [
            "Juliano Niederauer",
            null
           ],
           "Programação",
           "<p>Cras gravida. Mauris consequat aliquam leo. Aenean non tortor id metus aliquet consectetuer. Quisque sodales lectus ac orci. Donec eleifend fringilla mi. Vivamus vel massa. Aenean interdum pellentesque sem. Nulla pellentesque felis et tortor. Duis cursus, dui non dictum tincidunt, wisi ipsum mollis wisi, nec ornare velit ipsum eget enim. In sed felis. Phasellus condimentum sodales nulla. Etiam orci leo, rutrum malesuada, congue vel, fringilla vitae, lorem. Pellentesque ligula.</p>",
           "Disponível também em formato ebook",
           "https://s3.novatec.com.br/capas/9788575225905.jpg",
           "978-85-7522-590-5",
           "544",
           [
            "autores/niederauer.php",
            null
           ],
           "livros/php-para-quem-conhece-php-5ed/",
           99,
           "PHP para quem conhece PHP - 5ª Edição"
          ],
          [
           "2017",
           [
            "Alan A. Donovan",
            "Brian W. Kernighan"
           ],
           "Programação",
           "<p>Lorem ipsum dolor sit amet, consectetuer adipiscing elit. Morbi eleifend, purus quis laoreet faucibus, ante augue malesuada mi, id rhoncus augue lorem eget elit. Ut sollicitudin sodales purus. Phasellus libero felis, blandit nec, commodo ut, imperdiet ut, nibh. Suspendisse potenti. Donec ullamcorper cursus dolor. Duis vitae ipsum. Maecenas dapibus hendrerit diam. Morbi varius, massa id pretium accumsan, nunc lorem congue libero, ut euismod metus libero id nulla. Duis posuere odio sed velit vulputate venenatis. Suspendisse et dui ac metus auctor fringilla. Curabitur interdum augue a pede.</p><p>Curabitur hendrerit erat ut augue. Cras gravida. Mauris consequat aliquam leo. Aenean non tortor id metus aliquet consectetuer. Quisque sodales lectus ac orci. Donec eleifend fringilla mi. Vivamus vel massa. Aenean interdum pellentesque sem. Nulla pellentesque felis et tortor. Duis cursus, dui non dictum tincidunt, wisi ipsum mollis wisi, nec ornare velit ipsum eget enim. In sed felis. Phasellus condimentum sodales nulla. Etiam orci leo, rutrum malesuada, congue vel, fringilla vitae, lorem. Pellentesque ligula.</p>",
           "",
           "https://s3.novatec.com.br/capas/9788575225462.jpg",
           "978-85-7522-546-2",
           "480",
           [
            "autores/alan-donovan.php",
            "autores/brian-kernighan.php"
           ],
           "livros/linguagem-de-programacao-go/",
           98,
           "A Linguagem de Programação Go"
          ]
         ],
         [
          "2018",
          [
           "Edécio Fernando Iepsen",
           null
          ],
          "Programação",
          "<p>Duis cursus, dui non dictum tincidunt, wisi ipsum mollis wisi, nec ornare velit ipsum eget enim. In sed felis. Phasellus condimentum sodales nulla. Etiam orci leo, rutrum malesuada, congue vel, fringilla vitae, lorem. Pellentesque ligula.</p>",
          "Disponível também em formato ebook",
          "https://s3.novatec.com.br/capas/9788575226568.jpg",
          "978-85-7522-656-8",
          "320",
          [
           "autores/edecio-iepsen.php",
           null
          ],
          null,
          69,
          "Lógica de Programação e Algoritmos com JavaScript"
         ],
         null,
         "Programação",
         "320",
         69
        ],
        [
         [
          [
           "2018",
           [
            "José Augusto N. G. Manzano",
            null
           ],
           "Programação",
           "<p>Lorem ipsum dolor sit amet, consectetuer adipiscing elit. Morbi eleifend, purus quis laoreet faucibus, ante augue malesuada mi, id rhoncus augue lorem eget elit. Ut sollicitudin sodales purus.</p>",
           "Disponível também em formato ebook",
           "https://s3.novatec.com.br/capas/9788575226834.jpg",
           "978-85-7522-683-4",
           "312",
           [
            "autores/jose-manzano.php",
            null
           ],
           null,
           69,
           "Primeiros passos com a linguagem Rust"
          ],
          [
           "2018",
           [
            "Igor Zhirkov",
            null
           ],
           "Hardware &amp; Robótica",
           "<p>Phasellus libero felis, blandit nec, commodo ut, imperdiet ut, nibh. Suspendisse potenti. Donec ullamcorper cursus dolor. Duis vitae ipsum. Maecenas dapibus hendrerit diam. Morbi varius, massa id pretium accumsan, nunc lorem congue libero, ut euismod metus libero id nulla.</p>",
           "Disponível também em formato ebook",
           "https://s3.novatec.com.br/capas/9788575226674.jpg",
           "978-85-7522-667-4",
           "576",
           [
            "autores/igor-zhirkov.php",
            null
           ],
           null,
           120,
           "Programação em Baixo Nível"
          ],
          [
           "2018",
           [
            "José Augusto N. G. Manzano",
            null
           ],
           "Programação",
           "<p>Duis posuere odio sed velit vulputate venenatis. Suspendisse et dui ac metus auctor fringilla. Curabitur interdum augue a pede.</p>>",
           "Disponível também em formato ebook",
           "https://s3.novatec.com.br/capas/9788575226681.jpg",
           "978-85-7522-668-1",
           "176",
           [
            "autores/jose-manzano.php",
            null
           ],
           "livros/introducao-a-linguagem-lua",
           52,
           "Introdução à linguagem Lua"
          ],
          [
           "2018",
           [
            "Edécio Fernando Iepsen",
            null
           ],
           "Programação",
           "<p>Duis cursus, dui non dictum tincidunt, wisi ipsum mollis wisi, nec ornare velit ipsum eget enim. In sed felis. Phasellus condimentum sodales nulla. Etiam orci leo, rutrum malesuada, congue vel, fringilla vitae, lorem. Pellentesque ligula.</p>",
           "Disponível também em formato ebook",
           "https://s3.novatec.com.br/capas/9788575226568.jpg",
           "978-85-7522-656-8",
           "320",
           [
            "autores/edecio-iepsen.php",
            null
           ],
           null,
           69,
           "Lógica de Programação e Algoritmos com JavaScript"
          ],
          [
           "2017",
           [
            "Juliano Niederauer",
            null
           ],
           "Programação",
           "<p>Cras gravida. Mauris consequat aliquam leo. Aenean non tortor id metus aliquet consectetuer. Quisque sodales lectus ac orci. Donec eleifend fringilla mi. Vivamus vel massa. Aenean interdum pellentesque sem. Nulla pellentesque felis et tortor. Duis cursus, dui non dictum tincidunt, wisi ipsum mollis wisi, nec ornare velit ipsum eget enim. In sed felis. Phasellus condimentum sodales nulla. Etiam orci leo, rutrum malesuada, congue vel, fringilla vitae, lorem. Pellentesque ligula.</p>",
           "Disponível também em formato ebook",
           "https://s3.novatec.com.br/capas/9788575225905.jpg",
           "978-85-7522-590-5",
           "544",
           [
            "autores/niederauer.php",
            null
           ],
           "livros/php-para-quem-conhece-php-5ed/",
           99,
           "PHP para quem conhece PHP - 5ª Edição"
          ],
          [
           "2017",
           [
            "Alan A. Donovan",
            "Brian W. Kernighan"
           ],
           "Programação",
           "<p>Lorem ipsum dolor sit amet, consectetuer adipiscing elit. Morbi eleifend, purus quis laoreet faucibus, ante augue malesuada mi, id rhoncus augue lorem eget elit. Ut sollicitudin sodales purus. Phasellus libero felis, blandit nec, commodo ut, imperdiet ut, nibh. Suspendisse potenti. Donec ullamcorper cursus dolor. Duis vitae ipsum. Maecenas dapibus hendrerit diam. Morbi varius, massa id pretium accumsan, nunc lorem congue libero, ut euismod metus libero id nulla. Duis posuere odio sed velit vulputate venenatis. Suspendisse et dui ac metus auctor fringilla. Curabitur interdum augue a pede.</p><p>Curabitur hendrerit erat ut augue. Cras gravida. Mauris consequat aliquam leo. Aenean non tortor id metus aliquet consectetuer. Quisque sodales lectus ac orci. Donec eleifend fringilla mi. Vivamus vel massa. Aenean interdum pellentesque sem. Nulla pellentesque felis et tortor. Duis cursus, dui non dictum tincidunt, wisi ipsum mollis wisi, nec ornare velit ipsum eget enim. In sed felis. Phasellus condimentum sodales nulla. Etiam orci leo, rutrum malesuada, congue vel, fringilla vitae, lorem. Pellentesque ligula.</p>",
           "",
           "https://s3.novatec.com.br/capas/9788575225462.jpg",
           "978-85-7522-546-2",
           "480",
           [
            "autores/alan-donovan.php",
            "autores/brian-kernighan.php"
           ],
           "livros/linguagem-de-programacao-go/",
           98,
           "A Linguagem de Programação Go"
          ]
         ],
         [
          "2017",
          [
           "Juliano Niederauer",
           null
          ],
          "Programação",
          "<p>Cras gravida. Mauris consequat aliquam leo. Aenean non tortor id metus aliquet consectetuer. Quisque sodales lectus ac orci. Donec eleifend fringilla mi. Vivamus vel massa. Aenean interdum pellentesque sem. Nulla pellentesque felis et tortor. Duis cursus, dui non dictum tincidunt, wisi ipsum mollis wisi, nec ornare velit ipsum eget enim. In sed felis. Phasellus condimentum sodales nulla. Etiam orci leo, rutrum malesuada, congue vel, fringilla vitae, lorem. Pellentesque ligula.</p>",
          "Disponível também em formato ebook",
          "https://s3.novatec.com.br/capas/9788575225905.jpg",
          "978-85-7522-590-5",
          "544",
          [
           "autores/niederauer.php",
           null
          ],
          "livros/php-para-quem-conhece-php-5ed/",
          99,
          "PHP para quem conhece PHP - 5ª Edição"
         ],
         null,
         "Programação",
         "544",
         99
        ],
        [
         [
          [
           "2018",
           [
            "José Augusto N. G. Manzano",
            null
           ],
           "Programação",
           "<p>Lorem ipsum dolor sit amet, consectetuer adipiscing elit. Morbi eleifend, purus quis laoreet faucibus, ante augue malesuada mi, id rhoncus augue lorem eget elit. Ut sollicitudin sodales purus.</p>",
           "Disponível também em formato ebook",
           "https://s3.novatec.com.br/capas/9788575226834.jpg",
           "978-85-7522-683-4",
           "312",
           [
            "autores/jose-manzano.php",
            null
           ],
           null,
           69,
           "Primeiros passos com a linguagem Rust"
          ],
          [
           "2018",
           [
            "Igor Zhirkov",
            null
           ],
           "Hardware &amp; Robótica",
           "<p>Phasellus libero felis, blandit nec, commodo ut, imperdiet ut, nibh. Suspendisse potenti. Donec ullamcorper cursus dolor. Duis vitae ipsum. Maecenas dapibus hendrerit diam. Morbi varius, massa id pretium accumsan, nunc lorem congue libero, ut euismod metus libero id nulla.</p>",
           "Disponível também em formato ebook",
           "https://s3.novatec.com.br/capas/9788575226674.jpg",
           "978-85-7522-667-4",
           "576",
           [
            "autores/igor-zhirkov.php",
            null
           ],
           null,
           120,
           "Programação em Baixo Nível"
          ],
          [
           "2018",
           [
            "José Augusto N. G. Manzano",
            null
           ],
           "Programação",
           "<p>Duis posuere odio sed velit vulputate venenatis. Suspendisse et dui ac metus auctor fringilla. Curabitur interdum augue a pede.</p>>",
           "Disponível também em formato ebook",
           "https://s3.novatec.com.br/capas/9788575226681.jpg",
           "978-85-7522-668-1",
           "176",
           [
            "autores/jose-manzano.php",
            null
           ],
           "livros/introducao-a-linguagem-lua",
           52,
           "Introdução à linguagem Lua"
          ],
          [
           "2018",
           [
            "Edécio Fernando Iepsen",
            null
           ],
           "Programação",
           "<p>Duis cursus, dui non dictum tincidunt, wisi ipsum mollis wisi, nec ornare velit ipsum eget enim. In sed felis. Phasellus condimentum sodales nulla. Etiam orci leo, rutrum malesuada, congue vel, fringilla vitae, lorem. Pellentesque ligula.</p>",
           "Disponível também em formato ebook",
           "https://s3.novatec.com.br/capas/9788575226568.jpg",
           "978-85-7522-656-8",
           "320",
           [
            "autores/edecio-iepsen.php",
            null
           ],
           null,
           69,
           "Lógica de Programação e Algoritmos com JavaScript"
          ],
          [
           "2017",
           [
            "Juliano Niederauer",
            null
           ],
           "Programação",
           "<p>Cras gravida. Mauris consequat aliquam leo. Aenean non tortor id metus aliquet consectetuer. Quisque sodales lectus ac orci. Donec eleifend fringilla mi. Vivamus vel massa. Aenean interdum pellentesque sem. Nulla pellentesque felis et tortor. Duis cursus, dui non dictum tincidunt, wisi ipsum mollis wisi, nec ornare velit ipsum eget enim. In sed felis. Phasellus condimentum sodales nulla. Etiam orci leo, rutrum malesuada, congue vel, fringilla vitae, lorem. Pellentesque ligula.</p>",
           "Disponível também em formato ebook",
           "https://s3.novatec.com.br/capas/9788575225905.jpg",
           "978-85-7522-590-5",
           "544",
           [
            "autores/niederauer.php",
            null
           ],
           "livros/php-para-quem-conhece-php-5ed/",
           99,
           "PHP para quem conhece PHP - 5ª Edição"
          ],
          [
           "2017",
           [
            "Alan A. Donovan",
            "Brian W. Kernighan"
           ],
           "Programação",
           "<p>Lorem ipsum dolor sit amet, consectetuer adipiscing elit. Morbi eleifend, purus quis laoreet faucibus, ante augue malesuada mi, id rhoncus augue lorem eget elit. Ut sollicitudin sodales purus. Phasellus libero felis, blandit nec, commodo ut, imperdiet ut, nibh. Suspendisse potenti. Donec ullamcorper cursus dolor. Duis vitae ipsum. Maecenas dapibus hendrerit diam. Morbi varius, massa id pretium accumsan, nunc lorem congue libero, ut euismod metus libero id nulla. Duis posuere odio sed velit vulputate venenatis. Suspendisse et dui ac metus auctor fringilla. Curabitur interdum augue a pede.</p><p>Curabitur hendrerit erat ut augue. Cras gravida. Mauris consequat aliquam leo. Aenean non tortor id metus aliquet consectetuer. Quisque sodales lectus ac orci. Donec eleifend fringilla mi. Vivamus vel massa. Aenean interdum pellentesque sem. Nulla pellentesque felis et tortor. Duis cursus, dui non dictum tincidunt, wisi ipsum mollis wisi, nec ornare velit ipsum eget enim. In sed felis. Phasellus condimentum sodales nulla. Etiam orci leo, rutrum malesuada, congue vel, fringilla vitae, lorem. Pellentesque ligula.</p>",
           "",
           "https://s3.novatec.com.br/capas/9788575225462.jpg",
           "978-85-7522-546-2",
           "480",
           [
            "autores/alan-donovan.php",
            "autores/brian-kernighan.php"
           ],
           "livros/linguagem-de-programacao-go/",
           98,
           "A Linguagem de Programação Go"
          ]
         ],
         [
          "2017",
          [
           "Alan A. Donovan",
           "Brian W. Kernighan"
          ],
          "Programação",
          "<p>Lorem ipsum dolor sit amet, consectetuer adipiscing elit. Morbi eleifend, purus quis laoreet faucibus, ante augue malesuada mi, id rhoncus augue lorem eget elit. Ut sollicitudin sodales purus. Phasellus libero felis, blandit nec, commodo ut, imperdiet ut, nibh. Suspendisse potenti. Donec ullamcorper cursus dolor. Duis vitae ipsum. Maecenas dapibus hendrerit diam. Morbi varius, massa id pretium accumsan, nunc lorem congue libero, ut euismod metus libero id nulla. Duis posuere odio sed velit vulputate venenatis. Suspendisse et dui ac metus auctor fringilla. Curabitur interdum augue a pede.</p><p>Curabitur hendrerit erat ut augue. Cras gravida. Mauris consequat aliquam leo. Aenean non tortor id metus aliquet consectetuer. Quisque sodales lectus ac orci. Donec eleifend fringilla mi. Vivamus vel massa. Aenean interdum pellentesque sem. Nulla pellentesque felis et tortor. Duis cursus, dui non dictum tincidunt, wisi ipsum mollis wisi, nec ornare velit ipsum eget enim. In sed felis. Phasellus condimentum sodales nulla. Etiam orci leo, rutrum malesuada, congue vel, fringilla vitae, lorem. Pellentesque ligula.</p>",
          "",
          "https://s3.novatec.com.br/capas/9788575225462.jpg",
          "978-85-7522-546-2",
          "480",
          [
           "autores/alan-donovan.php",
           "autores/brian-kernighan.php"
          ],
          "livros/linguagem-de-programacao-go/",
          98,
          "A Linguagem de Programação Go"
         ],
         "Brian W. Kernighan",
         "Programação",
         "480",
         98
        ]
       ],
       "datasetInfos": [],
       "dbfsResultPath": null,
       "isJsonSchema": true,
       "metadata": {},
       "overflow": false,
       "plotOptions": {
        "customPlotOptions": {},
        "displayType": "table",
        "pivotAggregation": null,
        "pivotColumns": null,
        "xColumns": null,
        "yColumns": null
       },
       "removedWidgets": [],
       "schema": [
        {
         "metadata": "{}",
         "name": "livros",
         "type": "{\"type\":\"array\",\"elementType\":{\"type\":\"struct\",\"fields\":[{\"name\":\"ano\",\"type\":\"string\",\"nullable\":true,\"metadata\":{}},{\"name\":\"autores\",\"type\":{\"type\":\"struct\",\"fields\":[{\"name\":\"autor1\",\"type\":\"string\",\"nullable\":true,\"metadata\":{}},{\"name\":\"autor2\",\"type\":\"string\",\"nullable\":true,\"metadata\":{}}]},\"nullable\":true,\"metadata\":{}},{\"name\":\"categoria\",\"type\":\"string\",\"nullable\":true,\"metadata\":{}},{\"name\":\"descricao\",\"type\":\"string\",\"nullable\":true,\"metadata\":{}},{\"name\":\"estoque\",\"type\":\"string\",\"nullable\":true,\"metadata\":{}},{\"name\":\"imgCapa\",\"type\":\"string\",\"nullable\":true,\"metadata\":{}},{\"name\":\"isbn\",\"type\":\"string\",\"nullable\":true,\"metadata\":{}},{\"name\":\"paginas\",\"type\":\"string\",\"nullable\":true,\"metadata\":{}},{\"name\":\"pgAutores\",\"type\":{\"type\":\"struct\",\"fields\":[{\"name\":\"pgAutor1\",\"type\":\"string\",\"nullable\":true,\"metadata\":{}},{\"name\":\"pgAutor2\",\"type\":\"string\",\"nullable\":true,\"metadata\":{}}]},\"nullable\":true,\"metadata\":{}},{\"name\":\"pgLivro\",\"type\":\"string\",\"nullable\":true,\"metadata\":{}},{\"name\":\"preco\",\"type\":\"long\",\"nullable\":true,\"metadata\":{}},{\"name\":\"titulo\",\"type\":\"string\",\"nullable\":true,\"metadata\":{}}]},\"containsNull\":true}"
        },
        {
         "metadata": "{}",
         "name": "livros_explode",
         "type": "{\"type\":\"struct\",\"fields\":[{\"name\":\"ano\",\"type\":\"string\",\"nullable\":true,\"metadata\":{}},{\"name\":\"autores\",\"type\":{\"type\":\"struct\",\"fields\":[{\"name\":\"autor1\",\"type\":\"string\",\"nullable\":true,\"metadata\":{}},{\"name\":\"autor2\",\"type\":\"string\",\"nullable\":true,\"metadata\":{}}]},\"nullable\":true,\"metadata\":{}},{\"name\":\"categoria\",\"type\":\"string\",\"nullable\":true,\"metadata\":{}},{\"name\":\"descricao\",\"type\":\"string\",\"nullable\":true,\"metadata\":{}},{\"name\":\"estoque\",\"type\":\"string\",\"nullable\":true,\"metadata\":{}},{\"name\":\"imgCapa\",\"type\":\"string\",\"nullable\":true,\"metadata\":{}},{\"name\":\"isbn\",\"type\":\"string\",\"nullable\":true,\"metadata\":{}},{\"name\":\"paginas\",\"type\":\"string\",\"nullable\":true,\"metadata\":{}},{\"name\":\"pgAutores\",\"type\":{\"type\":\"struct\",\"fields\":[{\"name\":\"pgAutor1\",\"type\":\"string\",\"nullable\":true,\"metadata\":{}},{\"name\":\"pgAutor2\",\"type\":\"string\",\"nullable\":true,\"metadata\":{}}]},\"nullable\":true,\"metadata\":{}},{\"name\":\"pgLivro\",\"type\":\"string\",\"nullable\":true,\"metadata\":{}},{\"name\":\"preco\",\"type\":\"long\",\"nullable\":true,\"metadata\":{}},{\"name\":\"titulo\",\"type\":\"string\",\"nullable\":true,\"metadata\":{}}]}"
        },
        {
         "metadata": "{}",
         "name": "autores",
         "type": "\"string\""
        },
        {
         "metadata": "{}",
         "name": "categoria",
         "type": "\"string\""
        },
        {
         "metadata": "{}",
         "name": "paginas",
         "type": "\"string\""
        },
        {
         "metadata": "{}",
         "name": "preco",
         "type": "\"long\""
        }
       ],
       "type": "table"
      }
     },
     "output_type": "display_data"
    }
   ],
   "source": [
    "display(df_flat)"
   ]
  },
  {
   "cell_type": "code",
   "execution_count": 0,
   "metadata": {
    "application/vnd.databricks.v1+cell": {
     "cellMetadata": {
      "byteLimit": 2048000,
      "rowLimit": 10000
     },
     "inputWidgets": {},
     "nuid": "edd3ace2-6bff-4d45-885b-f25827523182",
     "showTitle": false,
     "title": ""
    }
   },
   "outputs": [],
   "source": [
    "df_flat = df.withColumn(\"livros_explode\", explode(\"livros\"))\\\n",
    "            .withColumn(\"autores\", col(\"livros_explode.autores.autor1\"))\\\n",
    "            .withColumn(\"autores\", col(\"livros_explode.autores.autor2\"))\\\n",
    "            .withColumn(\"categoria\", col(\"livros_explode.categoria\"))\\\n",
    "            .withColumn(\"paginas\", col(\"livros_explode.paginas\"))\\\n",
    "            .withColumn(\"preco\", col(\"livros_explode.preco\"))\\\n",
    "            .drop(\"livros\",\"livros_explode\")"
   ]
  },
  {
   "cell_type": "code",
   "execution_count": 0,
   "metadata": {
    "application/vnd.databricks.v1+cell": {
     "cellMetadata": {
      "byteLimit": 2048000,
      "rowLimit": 10000
     },
     "inputWidgets": {},
     "nuid": "24938fee-183b-4806-b4b2-4a0ed2bc8adb",
     "showTitle": false,
     "title": ""
    }
   },
   "outputs": [
    {
     "output_type": "display_data",
     "data": {
      "text/html": [
       "<style scoped>\n",
       "  .table-result-container {\n",
       "    max-height: 300px;\n",
       "    overflow: auto;\n",
       "  }\n",
       "  table, th, td {\n",
       "    border: 1px solid black;\n",
       "    border-collapse: collapse;\n",
       "  }\n",
       "  th, td {\n",
       "    padding: 5px;\n",
       "  }\n",
       "  th {\n",
       "    text-align: left;\n",
       "  }\n",
       "</style><div class='table-result-container'><table class='table-result'><thead style='background-color: white'><tr><th>autores</th><th>categoria</th><th>paginas</th><th>preco</th></tr></thead><tbody><tr><td>null</td><td>Programação</td><td>312</td><td>69</td></tr><tr><td>null</td><td>Hardware &amp; Robótica</td><td>576</td><td>120</td></tr><tr><td>null</td><td>Programação</td><td>176</td><td>52</td></tr><tr><td>null</td><td>Programação</td><td>320</td><td>69</td></tr><tr><td>null</td><td>Programação</td><td>544</td><td>99</td></tr><tr><td>Brian W. Kernighan</td><td>Programação</td><td>480</td><td>98</td></tr></tbody></table></div>"
      ]
     },
     "metadata": {
      "application/vnd.databricks.v1+output": {
       "addedWidgets": {},
       "aggData": [],
       "aggError": "",
       "aggOverflow": false,
       "aggSchema": [],
       "aggSeriesLimitReached": false,
       "aggType": "",
       "arguments": {},
       "columnCustomDisplayInfos": {},
       "data": [
        [
         null,
         "Programação",
         "312",
         69
        ],
        [
         null,
         "Hardware &amp; Robótica",
         "576",
         120
        ],
        [
         null,
         "Programação",
         "176",
         52
        ],
        [
         null,
         "Programação",
         "320",
         69
        ],
        [
         null,
         "Programação",
         "544",
         99
        ],
        [
         "Brian W. Kernighan",
         "Programação",
         "480",
         98
        ]
       ],
       "datasetInfos": [],
       "dbfsResultPath": null,
       "isJsonSchema": true,
       "metadata": {},
       "overflow": false,
       "plotOptions": {
        "customPlotOptions": {},
        "displayType": "table",
        "pivotAggregation": null,
        "pivotColumns": null,
        "xColumns": null,
        "yColumns": null
       },
       "removedWidgets": [],
       "schema": [
        {
         "metadata": "{}",
         "name": "autores",
         "type": "\"string\""
        },
        {
         "metadata": "{}",
         "name": "categoria",
         "type": "\"string\""
        },
        {
         "metadata": "{}",
         "name": "paginas",
         "type": "\"string\""
        },
        {
         "metadata": "{}",
         "name": "preco",
         "type": "\"long\""
        }
       ],
       "type": "table"
      }
     },
     "output_type": "display_data"
    }
   ],
   "source": [
    "display(df_flat)"
   ]
  },
  {
   "cell_type": "code",
   "execution_count": 0,
   "metadata": {
    "application/vnd.databricks.v1+cell": {
     "cellMetadata": {
      "byteLimit": 2048000,
      "rowLimit": 10000
     },
     "inputWidgets": {},
     "nuid": "630ea757-7f65-4bba-b158-b2317e7b375d",
     "showTitle": false,
     "title": ""
    }
   },
   "outputs": [],
   "source": [
    "df_flat.createOrReplaceTempView(\"livro\")"
   ]
  },
  {
   "cell_type": "code",
   "execution_count": 0,
   "metadata": {
    "application/vnd.databricks.v1+cell": {
     "cellMetadata": {
      "byteLimit": 2048000,
      "rowLimit": 10000
     },
     "inputWidgets": {},
     "nuid": "7532e831-65c6-4194-bafd-83ce4094cbe5",
     "showTitle": false,
     "title": ""
    }
   },
   "outputs": [
    {
     "output_type": "stream",
     "name": "stdout",
     "output_type": "stream",
     "text": [
      "+--------+\n|count(1)|\n+--------+\n|       6|\n+--------+\n\n"
     ]
    }
   ],
   "source": [
    "sql = spark.sql(\"\"\" select count(1) from livro\n",
    "                        \n",
    "                \n",
    "                \"\"\")\n",
    "sql.show()"
   ]
  }
 ],
 "metadata": {
  "application/vnd.databricks.v1+notebook": {
   "dashboards": [],
   "language": "python",
   "notebookMetadata": {
    "pythonIndentUnit": 4
   },
   "notebookName": "json_file",
   "widgets": {}
  }
 },
 "nbformat": 4,
 "nbformat_minor": 0
}
